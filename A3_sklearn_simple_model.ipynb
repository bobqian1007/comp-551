{
 "cells": [
  {
   "cell_type": "code",
   "execution_count": 1,
   "metadata": {},
   "outputs": [
    {
     "name": "stdout",
     "output_type": "stream",
     "text": [
      "x_train shape: (40000, 128, 128)\n",
      "Number of images in x_train 40000\n",
      "Number of images in x_test 10000\n"
     ]
    }
   ],
   "source": [
    "import pandas as pd \n",
    "import numpy as np\n",
    "from sklearn.model_selection import train_test_split\n",
    "\n",
    "train_images = pd.read_pickle('/Users/greenpenguin/Desktop/551A3/train_max_x.zip') \n",
    "x_train = np.reshape(train_images, (50000, 128, 128))\n",
    "#x_train = x_train.reshape(x_train.shape[0], 128, 128, 1)\n",
    "\n",
    "df = pd.read_csv('/Users/greenpenguin/Desktop/551A3/train_y_mod.csv')\n",
    "y_train = df.Label.to_numpy()\n",
    "\n",
    "X_train, X_test, y_train, y_test = train_test_split(x_train, y_train, test_size=0.2, random_state=42)\n",
    "\n",
    "\n",
    "# Reshaping the array to 4-dims so that it can work with the Keras API\n",
    "#X_train = X_train.reshape(X_train.shape[0], 128, 128, 1)\n",
    "#X_test = X_test.reshape(X_test.shape[0], 128, 128, 1)\n",
    "input_shape = (128, 128, 1)\n",
    "# Making sure that the values are float so that we can get decimal points after division\n",
    "X_train = X_train.astype('float32')\n",
    "X_test = X_test.astype('float32')\n",
    "# Normalizing the RGB codes by dividing it to the max RGB value.\n",
    "X_train /= 255.0\n",
    "X_test /= 255.0\n",
    "print('x_train shape:', X_train.shape)\n",
    "print('Number of images in x_train', X_train.shape[0])\n",
    "print('Number of images in x_test', X_test.shape[0])"
   ]
  },
  {
   "cell_type": "code",
   "execution_count": 2,
   "metadata": {},
   "outputs": [],
   "source": [
    "X_train /= 255.0\n",
    "X_test /= 255.0\n",
    "\n",
    "X_train[X_train < 0.8] = 0\n",
    "X_train[X_train >= 0.8] = 1\n",
    "\n",
    "X_test[X_test < 0.8] = 0\n",
    "X_test[X_test >= 0.8] = 1"
   ]
  },
  {
   "cell_type": "code",
   "execution_count": 3,
   "metadata": {},
   "outputs": [],
   "source": [
    "X_train = np.reshape(X_train, (40000,16384))\n",
    "X_test  = np.reshape(X_test, (10000,16384))"
   ]
  },
  {
   "cell_type": "code",
   "execution_count": 4,
   "metadata": {},
   "outputs": [
    {
     "name": "stdout",
     "output_type": "stream",
     "text": [
      "[0 1 2 3 4 5 6 7 8 9]\n",
      "(10000,)\n"
     ]
    }
   ],
   "source": [
    "print(np.array([0,1,2,3,4,5,6,7,8,9]))\n",
    "categories = np.array(['0','1','2','3','4','5','6','7','8','9'])\n",
    "print(y_test.shape)"
   ]
  },
  {
   "cell_type": "code",
   "execution_count": 6,
   "metadata": {},
   "outputs": [
    {
     "name": "stdout",
     "output_type": "stream",
     "text": [
      "              precision    recall  f1-score   support\n",
      "\n",
      "           0       0.00      0.00      0.00        10\n",
      "           1       0.00      0.00      0.00        75\n",
      "           2       0.00      0.00      0.00       210\n",
      "           3       0.00      0.00      0.00       419\n",
      "           4       0.00      0.00      0.00       651\n",
      "           5       0.00      0.00      0.00       823\n",
      "           6       0.00      0.00      0.00      1210\n",
      "           7       0.00      0.00      0.00      1770\n",
      "           8       0.00      0.00      0.00      2140\n",
      "           9       0.27      1.00      0.42      2692\n",
      "\n",
      "    accuracy                           0.27     10000\n",
      "   macro avg       0.03      0.10      0.04     10000\n",
      "weighted avg       0.07      0.27      0.11     10000\n",
      "\n"
     ]
    },
    {
     "name": "stderr",
     "output_type": "stream",
     "text": [
      "/Users/greenpenguin/anaconda3/lib/python3.6/site-packages/sklearn/metrics/classification.py:1437: UndefinedMetricWarning: Precision and F-score are ill-defined and being set to 0.0 in labels with no predicted samples.\n",
      "  'precision', 'predicted', average, warn_for)\n"
     ]
    }
   ],
   "source": [
    "from sklearn.naive_bayes import MultinomialNB\n",
    "from sklearn import metrics\n",
    "from sklearn.svm import LinearSVC\n",
    "from sklearn.linear_model import LogisticRegression\n",
    "\n",
    "clf = MultinomialNB()\n",
    "\n",
    "clf.fit(X_train, y_train)\n",
    "y_pred = clf.predict(X_test)\n",
    "print(metrics.classification_report(y_test, y_pred,\n",
    "    target_names=categories))"
   ]
  },
  {
   "cell_type": "code",
   "execution_count": 7,
   "metadata": {},
   "outputs": [
    {
     "name": "stdout",
     "output_type": "stream",
     "text": [
      "              precision    recall  f1-score   support\n",
      "\n",
      "           0       0.00      0.00      0.00        10\n",
      "           1       0.00      0.00      0.00        75\n",
      "           2       0.00      0.00      0.00       210\n",
      "           3       0.00      0.00      0.00       419\n",
      "           4       0.00      0.00      0.00       651\n",
      "           5       0.00      0.00      0.00       823\n",
      "           6       0.00      0.00      0.00      1210\n",
      "           7       0.00      0.00      0.00      1770\n",
      "           8       0.00      0.00      0.00      2140\n",
      "           9       0.27      1.00      0.42      2692\n",
      "\n",
      "    accuracy                           0.27     10000\n",
      "   macro avg       0.03      0.10      0.04     10000\n",
      "weighted avg       0.07      0.27      0.11     10000\n",
      "\n"
     ]
    },
    {
     "name": "stderr",
     "output_type": "stream",
     "text": [
      "/Users/greenpenguin/anaconda3/lib/python3.6/site-packages/sklearn/metrics/classification.py:1437: UndefinedMetricWarning: Precision and F-score are ill-defined and being set to 0.0 in labels with no predicted samples.\n",
      "  'precision', 'predicted', average, warn_for)\n"
     ]
    }
   ],
   "source": [
    "clf = LinearSVC()\n",
    "\n",
    "clf.fit(X_train, y_train)\n",
    "y_pred = clf.predict(X_test)\n",
    "print(metrics.classification_report(y_test, y_pred,\n",
    "    target_names=categories))"
   ]
  },
  {
   "cell_type": "code",
   "execution_count": null,
   "metadata": {},
   "outputs": [],
   "source": [
    "from sklearn.discriminant_analysis import LinearDiscriminantAnalysis\n",
    "clf = LinearDiscriminantAnalysis()\n",
    "\n",
    "clf.fit(X_train, y_train)\n",
    "y_pred = clf.predict(X_test)\n",
    "print(metrics.classification_report(y_test, y_pred,\n",
    "    target_names=categories))\n"
   ]
  },
  {
   "cell_type": "code",
   "execution_count": null,
   "metadata": {},
   "outputs": [],
   "source": []
  }
 ],
 "metadata": {
  "kernelspec": {
   "display_name": "Python 3",
   "language": "python",
   "name": "python3"
  },
  "language_info": {
   "codemirror_mode": {
    "name": "ipython",
    "version": 3
   },
   "file_extension": ".py",
   "mimetype": "text/x-python",
   "name": "python",
   "nbconvert_exporter": "python",
   "pygments_lexer": "ipython3",
   "version": "3.6.5"
  }
 },
 "nbformat": 4,
 "nbformat_minor": 2
}
