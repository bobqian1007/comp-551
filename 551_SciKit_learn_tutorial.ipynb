{
  "nbformat": 4,
  "nbformat_minor": 0,
  "metadata": {
    "colab": {
      "name": "551 SciKit learn tutorial.ipynb",
      "provenance": [],
      "collapsed_sections": []
    },
    "kernelspec": {
      "display_name": "Python 3",
      "language": "python",
      "name": "python3"
    }
  },
  "cells": [
    {
      "cell_type": "markdown",
      "metadata": {
        "id": "XJCCUgRky5b-",
        "colab_type": "text"
      },
      "source": [
        "# Comp 551 Tutorial 2 :: scikit-learn\n",
        "\n",
        "Oct 3, 2018\n",
        "\n",
        "### Things we'll cover today\n",
        "\n",
        "1) **What is scikit-learn and why should I care about it**\n",
        "\n",
        "2) **How to go about doing ML (with scikit learn)**\n",
        "  - ML as a single pipeline\n",
        "    - Most common data preprocessing steps\n",
        "      - train-test split\n",
        "      - vectorization of textual features (only for textual features)\n",
        "      - TF-IDF (only for textual features)\n",
        "      - normalization\n",
        "      - one-hot encoding of labels (for classification problems only)\n",
        "    - Training\n",
        "      - fit (closed form or gradient descent)\n",
        "      - predict\n",
        "    - Evaluation\n",
        "      - metrics : measure accuracy - precision / recall / f-score\n",
        "      - Cross validation\n",
        "      - Grid Search"
      ]
    },
    {
      "cell_type": "code",
      "metadata": {
        "id": "HzgjkqOj3OxL",
        "colab_type": "code",
        "colab": {}
      },
      "source": [
        ""
      ],
      "execution_count": 0,
      "outputs": []
    },
    {
      "cell_type": "markdown",
      "metadata": {
        "id": "DWojGlHdy5b-",
        "colab_type": "text"
      },
      "source": [
        "1) **What is scikit-learn and why should I care about it**\n",
        "\n",
        "- Scikit-learn is a python-based free ML library that provides well-implemented off-the-shelf implementations for almost all ML operations.\n",
        "- Implementing ML from scratch that is scalable, efficient, and error-free is really very very hard.\n",
        "\n",
        "*Disclaimer* : Availability of off-the-shelf implementations of ML doesn't invalidates the need to know the algorithms details."
      ]
    },
    {
      "cell_type": "markdown",
      "metadata": {
        "id": "0J0ZH_ePy5b_",
        "colab_type": "text"
      },
      "source": [
        "2) **How to go about doing ML (with scikit learn)**\n",
        "\n",
        "\n"
      ]
    },
    {
      "cell_type": "markdown",
      "metadata": {
        "id": "kjxtPBSvy5cB",
        "colab_type": "text"
      },
      "source": [
        "2.1) **ML as a single pipeline**\n",
        "- Almost all *scalable* ML models follows the style of development in a pipeline. It eases the pain of thinking through the complex ML processes.\n",
        "- Keep this pipeline in mind while developing any ML model.\n",
        "\n",
        "![alt text](http://cs.mcgill.ca/~sthaku3/other_media/COMP551_tutorial_2/Steps.png)\n",
        "\n",
        "\n",
        "- P.S. :: Closed-form solution seeking ML don't follow this suit."
      ]
    },
    {
      "cell_type": "markdown",
      "metadata": {
        "id": "f3AiQWOLy5cC",
        "colab_type": "text"
      },
      "source": [
        "From here on, we'll explain the concepts behind each of these steps with a real dataset called News20group as hosted [here](https://scikit-learn.org/0.19/datasets/twenty_newsgroups.html). So, let's import it now."
      ]
    },
    {
      "cell_type": "code",
      "metadata": {
        "id": "klEFnYucy5cD",
        "colab_type": "code",
        "outputId": "4d407a7c-9f79-439f-c3f7-10f5e358b087",
        "colab": {
          "base_uri": "https://localhost:8080/",
          "height": 53
        }
      },
      "source": [
        "from sklearn.datasets import fetch_20newsgroups\n",
        "newsgroups = fetch_20newsgroups(subset='all')"
      ],
      "execution_count": 0,
      "outputs": [
        {
          "output_type": "stream",
          "text": [
            "Downloading 20news dataset. This may take a few minutes.\n",
            "Downloading dataset from https://ndownloader.figshare.com/files/5975967 (14 MB)\n"
          ],
          "name": "stderr"
        }
      ]
    },
    {
      "cell_type": "code",
      "metadata": {
        "id": "h7zHsa0gPYZS",
        "colab_type": "code",
        "outputId": "01600cc2-66f5-45a6-fc14-f9a207be1959",
        "colab": {
          "base_uri": "https://localhost:8080/",
          "height": 35
        }
      },
      "source": [
        "type(newsgroups)"
      ],
      "execution_count": 0,
      "outputs": [
        {
          "output_type": "execute_result",
          "data": {
            "text/plain": [
              "sklearn.utils.Bunch"
            ]
          },
          "metadata": {
            "tags": []
          },
          "execution_count": 3
        }
      ]
    },
    {
      "cell_type": "code",
      "metadata": {
        "id": "_icjdV9Sy5cH",
        "colab_type": "code",
        "outputId": "1d8924c3-a3cb-47f4-b4cd-7e0107db0f9b",
        "colab": {
          "base_uri": "https://localhost:8080/",
          "height": 199
        }
      },
      "source": [
        "# This is how the features look like\n",
        "list(newsgroups.data)[1:10]"
      ],
      "execution_count": 0,
      "outputs": [
        {
          "output_type": "execute_result",
          "data": {
            "text/plain": [
              "['From: mblawson@midway.ecn.uoknor.edu (Matthew B Lawson)\\nSubject: Which high-performance VLB video card?\\nSummary: Seek recommendations for VLB video card\\nNntp-Posting-Host: midway.ecn.uoknor.edu\\nOrganization: Engineering Computer Network, University of Oklahoma, Norman, OK, USA\\nKeywords: orchid, stealth, vlb\\nLines: 21\\n\\n  My brother is in the market for a high-performance video card that supports\\nVESA local bus with 1-2MB RAM.  Does anyone have suggestions/ideas on:\\n\\n  - Diamond Stealth Pro Local Bus\\n\\n  - Orchid Farenheit 1280\\n\\n  - ATI Graphics Ultra Pro\\n\\n  - Any other high-performance VLB card\\n\\n\\nPlease post or email.  Thank you!\\n\\n  - Matt\\n\\n-- \\n    |  Matthew B. Lawson <------------> (mblawson@essex.ecn.uoknor.edu)  |   \\n  --+-- \"Now I, Nebuchadnezzar, praise and exalt and glorify the King  --+-- \\n    |   of heaven, because everything he does is right and all his ways  |   \\n    |   are just.\" - Nebuchadnezzar, king of Babylon, 562 B.C.           |   \\n',\n",
              " 'From: hilmi-er@dsv.su.se (Hilmi Eren)\\nSubject: Re: ARMENIA SAYS IT COULD SHOOT DOWN TURKISH PLANES (Henrik)\\nLines: 95\\nNntp-Posting-Host: viktoria.dsv.su.se\\nReply-To: hilmi-er@dsv.su.se (Hilmi Eren)\\nOrganization: Dept. of Computer and Systems Sciences, Stockholm University\\n\\n\\n\\n\\n|>The student of \"regional killings\" alias Davidian (not the Davidian religios sect) writes:\\n\\n\\n|>Greater Armenia would stretch from Karabakh, to the Black Sea, to the\\n|>Mediterranean, so if you use the term \"Greater Armenia\" use it with care.\\n\\n\\n\\tFinally you said what you dream about. Mediterranean???? That was new....\\n\\tThe area will be \"greater\" after some years, like your \"holocaust\" numbers......\\n\\n\\n\\n\\n|>It has always been up to the Azeris to end their announced winning of Karabakh \\n|>by removing the Armenians! When the president of Azerbaijan, Elchibey, came to \\n|>power last year, he announced he would be be \"swimming in Lake Sevan [in \\n|>Armeniaxn] by July\".\\n\\t\\t*****\\n\\tIs\\'t July in USA now????? Here in Sweden it\\'s April and still cold.\\n\\tOr have you changed your calendar???\\n\\n\\n|>Well, he was wrong! If Elchibey is going to shell the \\n|>Armenians of Karabakh from Aghdam, his people will pay the price! If Elchibey \\n\\t\\t\\t\\t\\t\\t    ****************\\n|>is going to shell Karabakh from Fizuli his people will pay the price! If \\n\\t\\t\\t\\t\\t\\t    ******************\\n|>Elchibey thinks he can get away with bombing Armenia from the hills of \\n|>Kelbajar, his people will pay the price. \\n\\t\\t\\t    ***************\\n\\n\\n\\tNOTHING OF THE MENTIONED IS TRUE, BUT LET SAY IT\\'s TRUE.\\n\\t\\n\\tSHALL THE AZERI WOMEN AND CHILDREN GOING TO PAY THE PRICE WITH\\n\\t\\t\\t\\t\\t\\t    **************\\n\\tBEING RAPED, KILLED AND TORTURED BY THE ARMENIANS??????????\\n\\t\\n\\tHAVE YOU HEARDED SOMETHING CALLED: \"GENEVA CONVENTION\"???????\\n\\tYOU FACIST!!!!!\\n\\n\\n\\n\\tOhhh i forgot, this is how Armenians fight, nobody has forgot\\n\\tyou killings, rapings and torture against the Kurds and Turks once\\n\\tupon a time!\\n      \\n       \\n\\n|>And anyway, this \"60 \\n|>Kurd refugee\" story, as have other stories, are simple fabrications sourced in \\n|>Baku, modified in Ankara. Other examples of this are Armenia has no border \\n|>with Iran, and the ridiculous story of the \"intercepting\" of Armenian military \\n|>conversations as appeared in the New York Times supposedly translated by \\n|>somebody unknown, from Armenian into Azeri Turkish, submitted by an unnamed \\n|>\"special correspondent\" to the NY Times from Baku. Real accurate!\\n\\nOhhhh so swedish RedCross workers do lie they too? What ever you say\\n\"regional killer\", if you don\\'t like the person then shoot him that\\'s your policy.....l\\n\\n\\n|>[HE]\\tSearch Turkish planes? You don\\'t know what you are talking about.<-------\\n|>[HE]\\tsince it\\'s content is announced to be weapons? \\t\\t\\t\\ti\\t \\n\\t\\t\\t\\t\\t\\t\\t\\t\\t\\ti\\n|>Well, big mouth Ozal said military weapons are being provided to Azerbaijan\\ti\\n|>from Turkey, yet Demirel and others say no. No wonder you are so confused!\\ti\\n\\t\\t\\t\\t\\t\\t\\t\\t\\t\\ti\\n\\t\\t\\t\\t\\t\\t\\t\\t\\t\\ti\\n\\tConfused?????\\t\\t\\t\\t\\t\\t\\t\\ti\\n\\tYou facist when you delete text don\\'t change it, i wrote:\\t\\ti\\n\\t\\t\\t\\t\\t\\t\\t\\t\\t\\ti\\n        Search Turkish planes? You don\\'t know what you are talking about.\\ti\\n        Turkey\\'s government has announced that it\\'s giving weapons  <-----------i\\n        to Azerbadjan since Armenia started to attack Azerbadjan\\t\\t\\n        it self, not the Karabag province. So why search a plane for weapons\\t\\n        since it\\'s content is announced to be weapons?   \\n\\n\\tIf there is one that\\'s confused then that\\'s you! We have the right (and we do)\\n\\tto give weapons to the Azeris, since Armenians started the fight in Azerbadjan!\\n \\n\\n|>You are correct, all Turkish planes should be simply shot down! Nice, slow\\n|>moving air transports!\\n\\n\\tShoot down with what? Armenian bread and butter? Or the arms and personel \\n\\tof the Russian army?\\n\\n\\n\\n\\nHilmi Eren\\nStockholm University\\n',\n",
              " 'From: guyd@austin.ibm.com (Guy Dawson)\\nSubject: Re: IDE vs SCSI, DMA and detach\\nOriginator: guyd@pal500.austin.ibm.com\\nOrganization: IBM Austin\\nLines: 60\\n\\n\\nIn article <1993Apr19.034517.12820@julian.uwo.ca>, wlsmith@valve.heart.rri.uwo.ca (Wayne Smith) writes:\\n> In article <RICHK.93Apr15075248@gozer.grebyn.com> richk@grebyn.com (Richard Krehbiel) writes:\\n> >>     Can anyone explain in fairly simple terms why, if I get OS/2, I might \\n> >>   need an SCSI controler rather than an IDE.  Will performance suffer that\\n> >>   much?  For a 200MB or so drive?  If I don\\'t have a tape drive or CD-ROM?\\n> >>   Any help would be appreciated.\\n> \\n> >So, when you\\'ve got multi-tasking, you want to increase performance by\\n> >increasing the amount of overlapping you do.\\n> >\\n> >One way is with DMA or bus mastering.  Either of these make it\\n> >possible for I/O devices to move their data into and out of memory\\n> >without interrupting the CPU.  The alternative is for the CPU to move\\n> >the data.  There are several SCSI interface cards that allow DMA and\\n> >bus mastering.\\n>  ^^^^^^^^^^^^\\n> How do you do bus-mastering on the ISA bus?\\n> \\n> >IDE, however, is defined by the standard AT interface\\n> >created for the IBM PC AT, which requires the CPU to move all the data\\n> >bytes, with no DMA.\\n> \\n> If we\\'re talking ISA (AT) bus here, then you can only have 1 DMA channel\\n> active at any one time, presumably transferring data from a single device.\\n> So even though you can have at least 7 devices on a SCSI bus, explain how\\n> all 7 of those devices can to DMA transfers through a single SCSI card\\n> to the ISA-AT bus at the same time.\\n\\nThink!\\n\\nIt\\'s the SCSI card doing the DMA transfers NOT the disks...\\n\\nThe SCSI card can do DMA transfers containing data from any of the SCSI devices\\nit is attached when it wants to.\\n\\nAn important feature of SCSI is the ability to detach a device. This frees the\\nSCSI bus for other devices. This is typically used in a multi-tasking OS to\\nstart transfers on several devices. While each device is seeking the data the\\nbus is free for other commands and data transfers. When the devices are\\nready to transfer the data they can aquire the bus and send the data.\\n\\nOn an IDE bus when you start a transfer the bus is busy until the disk has seeked\\nthe data and transfered it. This is typically a 10-20ms second lock out for other\\nprocesses wanting the bus irrespective of transfer time.\\n\\n> \\n> Also, I\\'m still trying to track down a copy of IBM\\'s AT reference book,\\n> but from their PC technical manual (page 2-93):\\n> \\n> \"The (FDD) adapter is buffered on the I.O bus and uses the System Board\\n> direct memory access (DMA) for record data transfers.\"\\n> I expect to see something similar for the PC-AT HDD adapter.  \\n> So the lowly low-density original PC FDD card used DMA and the PC-AT\\n> HDD controller doesn\\'t!?!?  That makes real sense.\\n-- \\n-- -----------------------------------------------------------------------------\\nGuy Dawson - Hoskyns Group Plc.\\n        guyd@hoskyns.co.uk  Tel Hoskyns UK     -  71 251 2128\\n        guyd@austin.ibm.com Tel IBM Austin USA - 512 838 3377\\n',\n",
              " 'From: Alexander Samuel McDiarmid <am2o+@andrew.cmu.edu>\\nSubject: driver ??\\nOrganization: Sophomore, Mechanical Engineering, Carnegie Mellon, Pittsburgh, PA\\nLines: 15\\nNNTP-Posting-Host: po4.andrew.cmu.edu\\n\\n \\n1)    I have an old Jasmine drive which I cannot use with my new system.\\n My understanding is that I have to upsate the driver with a more modern\\none in order to gain compatability with system 7.0.1.  does anyone know\\nof an inexpensive program to do this?  ( I have seen formatters for <$20\\nbuit have no idea if they will work)\\n \\n2)     I have another ancient device, this one a tape drive for which\\nthe back utility freezes the system if I try to use it.  THe drive is a\\njasmine direct tape (bought used for $150 w/ 6 tapes, techmar\\nmechanism).  Essentially I have the same question as above, anyone know\\nof an inexpensive beckup utility I can use with system 7.0.1\\n \\nall help and advice appriciated.\\n\\n',\n",
              " 'From: tell@cs.unc.edu (Stephen Tell)\\nSubject: Re: subliminal message flashing on TV\\nOrganization: The University of North Carolina at Chapel Hill\\nLines: 25\\nNNTP-Posting-Host: rukbat.cs.unc.edu\\n\\nIn article <7480237@hpfcso.FC.HP.COM> myers@hpfcso.FC.HP.COM (Bob Myers) writes:\\n>> Hi.  I was doing research on subliminal suggestion for a psychology\\n>> paper, and I read that one researcher flashed hidden messages on the\\n>> TV screen at 1/200ths of a second.  Is that possible?\\n\\n> Might\\n>even be a vector (\"strokewriter\") display, in which case the lower limit\\n>on image time is anyone\\'s guess (and is probably phosphor-persistence limited).\\n\\nBack in high school I worked as a lab assistant for a bunch of experimental\\npsychologists at Bell Labs.  When they were doing visual perception and\\nmemory experiments, they used vector-type displays, with 1-millisecond\\nrefresh rates common.\\n\\nSo your case of 1/200th sec is quite practical, and the experimenters were\\nprobably sure that it was 5 milliseconds, not 4 or 6 either.\\n\\n>Bob Myers  KC0EW >myers@fc.hp.com \\n\\nSteve\\n-- \\nSteve Tell       tell@cs.unc.edu H: 919 968 1792  | #5L Estes Park apts\\nUNC Chapel Hill Computer Science W: 919 962 1845  | Carrboro NC 27510\\nEngineering is a _lot_ like art:  Some circuits are like lyric poems, some\\nare like army manuals, and some are like The Hitchhiker\\'s Guide to the Galaxy..\\n',\n",
              " 'From: lpa8921@tamuts.tamu.edu (Louis Paul Adams)\\nSubject: Re: Number for Applied Engineering\\nOrganization: Texas A&M University, College Station\\nLines: 9\\nNNTP-Posting-Host: tamuts.tamu.edu\\n\\n>Anyone have a phone number for Applied Engineering so I can give them\\n>a call?\\n\\n\\nAE is in Dallas...try 214/241-6060 or 214/241-0055.  Tech support may be on\\ntheir own line, but one of these should get you started.\\n\\nGood luck!\\n\\n',\n",
              " \"From: dchhabra@stpl.ists.ca (Deepak Chhabra)\\nSubject: Re: Atlanta Hockey Hell!!\\nNntp-Posting-Host: stpl.ists.ca\\nOrganization: Solar Terresterial Physics Laboratory, ISTS\\nLines: 24\\n\\nIn article <0foVj7i00WB4MIUmht@andrew.cmu.edu> Mamatha Devineni Ratnam <mr47+@andrew.cmu.edu> writes:\\n>\\n>Well, it's not that bad. But I am still pretty pissed of at the\\n>local ABC coverage. They cut off the first half hour of coverage by playing\\n\\n[stuff deleted]\\n\\nOk, here's the solution to your problem.  Move to Canada.  Yesterday I was able\\nto watch FOUR games...the NJ-PITT at 1:00 on ABC, LA-CAL at 3:00 (CBC), \\nBUFF-BOS at 7:00 (TSN and FOX), and MON-QUE at 7:30 (CBC).  I think that if\\neach series goes its max I could be watching hockey playoffs for 40-some odd\\nconsecutive nights (I haven't counted so that's a pure guess).\\n\\nI have two tv's in my house, and I set them up side-by-side to watch MON-QUE\\nand keep an eye on BOS-BUFF at the same time.  I did the same for the two\\nafternoon games.\\n\\nBtw, those ABC commentaters were great!  I was quite impressed; they seemed\\nto know that their audience wasn't likely to be well-schooled in hockey lore\\nand they did an excellent job.  They were quite impartial also, IMO.\\n\\n\\n\\ndchhabra@stpl.ists.ca (not suffering from a shortage of hockey here)\\n\",\n",
              " \"From: dchhabra@stpl.ists.ca (Deepak Chhabra)\\nSubject: Re: Goalie masks\\nNntp-Posting-Host: stpl.ists.ca\\nOrganization: Solar Terresterial Physics Laboratory, ISTS\\nLines: 15\\n\\nIn article <C5sqz3.EG8@acsu.buffalo.edu> hammerl@acsu.buffalo.edu (Valerie S. Hammerl) writes:\\n\\n>>[...] and I'll give Fuhr's new one an honourable mention, although I haven't\\n>>seen it closely yet (it looked good from a distance!).  \\n\\n>This is the new Buffalo one, the second since he's been with the\\n>Sabres?  I recall a price tag of over $700 just for the paint job on\\n>that mask, and a total price of almost $1500.  Ouch.  \\n\\nYeah, it's the second one.  And I believe that price too.  I've been trying\\nto get a good look at it on the Bruin-Sabre telecasts, and wow! does it ever\\nlook good.  Whoever did that paint job knew what they were doing.  And given\\nFuhr's play since he got it, I bet the Bruins are wishing he didn't have it:)\\n\\n--\\n\",\n",
              " 'From: arromdee@jyusenkyou.cs.jhu.edu (Ken Arromdee)\\nSubject: Re: Christians above the Law? was Clarification of pe\\nOrganization: Johns Hopkins University CS Dept.\\nLines: 13\\n\\nIn article <C61Kow.E4z@mailer.cc.fsu.edu> dlecoint@garnet.acns.fsu.edu (Darius_Lecointe) writes:\\n>>Jesus was a JEW, not a Christian.\\n\\nIf a Christian means someone who believes in the divinity of Jesus, it is safe\\nto say that Jesus was a Christian.\\n--\\n\"On the first day after Christmas my truelove served to me...  Leftover Turkey!\\nOn the second day after Christmas my truelove served to me...  Turkey Casserole\\n    that she made from Leftover Turkey.\\n[days 3-4 deleted] ...  Flaming Turkey Wings! ...\\n   -- Pizza Hut commercial (and M*tlu/A*gic bait)\\n\\nKen Arromdee (arromdee@jyusenkyou.cs.jhu.edu)\\n']"
            ]
          },
          "metadata": {
            "tags": []
          },
          "execution_count": 4
        }
      ]
    },
    {
      "cell_type": "code",
      "metadata": {
        "id": "TQepoHV8QVho",
        "colab_type": "code",
        "outputId": "33fb7799-e650-4abe-81fc-7058e94c2f71",
        "colab": {
          "base_uri": "https://localhost:8080/",
          "height": 35
        }
      },
      "source": [
        "len(list(newsgroups.data))"
      ],
      "execution_count": 0,
      "outputs": [
        {
          "output_type": "execute_result",
          "data": {
            "text/plain": [
              "18846"
            ]
          },
          "metadata": {
            "tags": []
          },
          "execution_count": 5
        }
      ]
    },
    {
      "cell_type": "code",
      "metadata": {
        "id": "kz27FYD_y5cK",
        "colab_type": "code",
        "outputId": "dbf14a63-a8fb-4bdd-9c2f-496a9285957b",
        "colab": {
          "base_uri": "https://localhost:8080/",
          "height": 377
        }
      },
      "source": [
        "# This is how the target looks like\n",
        "newsgroups.target_names"
      ],
      "execution_count": 0,
      "outputs": [
        {
          "output_type": "execute_result",
          "data": {
            "text/plain": [
              "['alt.atheism',\n",
              " 'comp.graphics',\n",
              " 'comp.os.ms-windows.misc',\n",
              " 'comp.sys.ibm.pc.hardware',\n",
              " 'comp.sys.mac.hardware',\n",
              " 'comp.windows.x',\n",
              " 'misc.forsale',\n",
              " 'rec.autos',\n",
              " 'rec.motorcycles',\n",
              " 'rec.sport.baseball',\n",
              " 'rec.sport.hockey',\n",
              " 'sci.crypt',\n",
              " 'sci.electronics',\n",
              " 'sci.med',\n",
              " 'sci.space',\n",
              " 'soc.religion.christian',\n",
              " 'talk.politics.guns',\n",
              " 'talk.politics.mideast',\n",
              " 'talk.politics.misc',\n",
              " 'talk.religion.misc']"
            ]
          },
          "metadata": {
            "tags": []
          },
          "execution_count": 6
        }
      ]
    },
    {
      "cell_type": "markdown",
      "metadata": {
        "id": "F91JKozKy5cN",
        "colab_type": "text"
      },
      "source": [
        "**2.1.1) Most common data-proprocessing steps**\n",
        "![alt text](http://cs.mcgill.ca/~sthaku3/other_media/COMP551_tutorial_2/Preprocessing.png)"
      ]
    },
    {
      "cell_type": "markdown",
      "metadata": {
        "id": "0P2Htdpmy5cO",
        "colab_type": "text"
      },
      "source": [
        "**2.1.1.1) Train-test split**"
      ]
    },
    {
      "cell_type": "code",
      "metadata": {
        "id": "vX07SHuvy5cP",
        "colab_type": "code",
        "outputId": "a727046a-1d31-4fe4-f626-0d909b8e2d51",
        "colab": {
          "base_uri": "https://localhost:8080/",
          "height": 35
        }
      },
      "source": [
        "## Simple way to do split would be to use scikit-learn's `train_test_split` method\n",
        "from sklearn.model_selection import train_test_split\n",
        "X_train, X_test, y_train, y_test = train_test_split(newsgroups.data, newsgroups.target, train_size=0.8, test_size=0.2)\n",
        "print(len(X_train)) \n",
        "# train tesprint(len(y_train))\n",
        "# print(y_train[0])"
      ],
      "execution_count": 0,
      "outputs": [
        {
          "output_type": "stream",
          "text": [
            "15076\n"
          ],
          "name": "stdout"
        }
      ]
    },
    {
      "cell_type": "code",
      "metadata": {
        "id": "ppUUSZ-My5cS",
        "colab_type": "code",
        "outputId": "56c6e7c9-c7dc-4944-b25f-c1fca8b04622",
        "colab": {
          "base_uri": "https://localhost:8080/",
          "height": 539
        }
      },
      "source": [
        "print(X_train[1])"
      ],
      "execution_count": 0,
      "outputs": [
        {
          "output_type": "stream",
          "text": [
            "From: wier@merlin.etsu.edu (Bob Wier)\n",
            "Subject: Re: Radius VideoVision?\n",
            "Organization: East Texas State University\n",
            "Lines: 23\n",
            "\n",
            "In article <wier-230493023036@csci-wiermac.etsu.edu>, wier@merlin.etsu.edu\n",
            "(Bob Wier) wrote:\n",
            "> \n",
            "> I VAGUELY, MAYBE remember that there was\n",
            "> some kind of serious problem with this board, which\n",
            "> does Composite, PAL, SECAM to S video, Composite,\n",
            "> etc coversions. Plus also generating quicktime movies, \n",
            "> etc. MacWeek was generally complimentary about it\n",
            "> in the April 12th issue.\n",
            "> \n",
            "  OOPS - got home and re-checked and found out that it\n",
            "ISNT the Radius Video Vision which was mentioned as having\n",
            "problems.  None the less, I still have a chance to buy one\n",
            "relatively cheap - can anyone say how well it seems to work,\n",
            "and if there has been a newer model introduced (accounting\n",
            "for the price reduction?)\n",
            "\n",
            "THANKS and thousands of apologies to Radius ...\n",
            "\n",
            "\n",
            "======== insert usual disclaimers here ============\n",
            "  Bob Wier, East Texas State U., Commerce, Texas\n",
            "  wier@merlin.etsu.edu (watch for address change) \n",
            "\n"
          ],
          "name": "stdout"
        }
      ]
    },
    {
      "cell_type": "markdown",
      "metadata": {
        "id": "24q_UHoUy5ca",
        "colab_type": "text"
      },
      "source": [
        "**2.1.1.2) Vectorization of textual features (applicable only for textual features)**\n",
        "\n",
        "A very simple approach to represent textual features such as documents or sentences as numerical value is to use each word as an atomic type and as a basis for a vector space. For example imagine a world where there exist only 3 words: “Apple”, “Orange”, and “Banana” and every sentence or document is made of them. They become the basis of a 3 dimensional vector space:\n",
        "\n",
        "```\n",
        "Apple  ==>> [1,0,0]\n",
        "Banana ==>> [0,1,0]\n",
        "Orange ==>> [0,0,1]\n",
        "```\n",
        "\n",
        "This representation is called **one_hot** as it is always a vector of zeros with 1 on the position of the word.\n",
        "\n",
        "Then a “sentence” or a “document” is simply the linear combination of these vectors where the number of the counts of appearance of the words is the coefficient along that dimension. For example:\n",
        "\n",
        "```\n",
        "d3 = \"Apple Orange Orange Apple\" ==>> [2,0,2]\n",
        "d4 = \"Apple Banana Apple Banana\" ==>> [2,2,0]\n",
        "d1 = \"Banana Apple Banana Banana Banana Apple\" ==>> [2,4,0]\n",
        "d2 = \"Banana Orange Banana Banana Orange Banana\" ==>> [0,4,2]\n",
        "d5 = \"Banana Apple Banana Banana Orange Banana\" ==>> [1,4,1]\n",
        "```\n"
      ]
    },
    {
      "cell_type": "markdown",
      "metadata": {
        "id": "eKljh0LHy5cb",
        "colab_type": "text"
      },
      "source": [
        "## Now we transform text into vectors\n",
        "\n"
      ]
    },
    {
      "cell_type": "code",
      "metadata": {
        "id": "0opTm5sxy5cd",
        "colab_type": "code",
        "outputId": "c31fed18-dbc5-49eb-869d-38eae47193ba",
        "colab": {
          "base_uri": "https://localhost:8080/",
          "height": 125
        }
      },
      "source": [
        "from sklearn.feature_extraction.text import CountVectorizer\n",
        "vectorizer = CountVectorizer()\n",
        "print(vectorizer)"
      ],
      "execution_count": 0,
      "outputs": [
        {
          "output_type": "stream",
          "text": [
            "CountVectorizer(analyzer='word', binary=False, decode_error='strict',\n",
            "                dtype=<class 'numpy.int64'>, encoding='utf-8', input='content',\n",
            "                lowercase=True, max_df=1.0, max_features=None, min_df=1,\n",
            "                ngram_range=(1, 1), preprocessor=None, stop_words=None,\n",
            "                strip_accents=None, token_pattern='(?u)\\\\b\\\\w\\\\w+\\\\b',\n",
            "                tokenizer=None, vocabulary=None)\n"
          ],
          "name": "stdout"
        }
      ]
    },
    {
      "cell_type": "code",
      "metadata": {
        "id": "j2p4yikZy5cg",
        "colab_type": "code",
        "colab": {}
      },
      "source": [
        "vectors_train = vectorizer.fit_transform(X_train)\n",
        "\n",
        "# and we do the same for test data. remember to use the same vectorizer, only transform (why?)\n",
        "vectors_test = vectorizer.transform(X_test)"
      ],
      "execution_count": 0,
      "outputs": []
    },
    {
      "cell_type": "code",
      "metadata": {
        "id": "IF7CNgM650d_",
        "colab_type": "code",
        "outputId": "70d8a809-7269-46c1-ebb4-80a64a0fb563",
        "colab": {
          "base_uri": "https://localhost:8080/",
          "height": 55
        }
      },
      "source": [
        "print(vectorizer.vocabulary_)"
      ],
      "execution_count": 0,
      "outputs": []
    },
    {
      "cell_type": "code",
      "metadata": {
        "id": "meXvyDGZy5ck",
        "colab_type": "code",
        "outputId": "063fd82f-6b5e-494e-95dd-3f319b63339c",
        "colab": {
          "base_uri": "https://localhost:8080/",
          "height": 935
        }
      },
      "source": [
        "print(vectors_train)"
      ],
      "execution_count": 0,
      "outputs": [
        {
          "output_type": "stream",
          "text": [
            "  (0, 66300)\t3\n",
            "  (0, 142913)\t7\n",
            "  (0, 32803)\t3\n",
            "  (0, 126326)\t3\n",
            "  (0, 104644)\t2\n",
            "  (0, 129323)\t2\n",
            "  (0, 128893)\t1\n",
            "  (0, 115509)\t1\n",
            "  (0, 76351)\t4\n",
            "  (0, 141577)\t2\n",
            "  (0, 122142)\t8\n",
            "  (0, 55939)\t1\n",
            "  (0, 144822)\t1\n",
            "  (0, 117049)\t1\n",
            "  (0, 133797)\t11\n",
            "  (0, 104682)\t1\n",
            "  (0, 100709)\t1\n",
            "  (0, 70262)\t1\n",
            "  (0, 6361)\t1\n",
            "  (0, 2744)\t1\n",
            "  (0, 6434)\t1\n",
            "  (0, 25453)\t1\n",
            "  (0, 42055)\t2\n",
            "  (0, 95091)\t1\n",
            "  (0, 121822)\t1\n",
            "  :\t:\n",
            "  (15075, 131180)\t1\n",
            "  (15075, 47738)\t1\n",
            "  (15075, 106515)\t1\n",
            "  (15075, 91459)\t1\n",
            "  (15075, 109793)\t1\n",
            "  (15075, 134546)\t1\n",
            "  (15075, 49429)\t1\n",
            "  (15075, 118026)\t2\n",
            "  (15075, 76998)\t1\n",
            "  (15075, 116315)\t1\n",
            "  (15075, 92076)\t1\n",
            "  (15075, 131348)\t1\n",
            "  (15075, 132749)\t1\n",
            "  (15075, 78699)\t1\n",
            "  (15075, 63828)\t1\n",
            "  (15075, 126723)\t1\n",
            "  (15075, 80609)\t2\n",
            "  (15075, 88074)\t1\n",
            "  (15075, 64604)\t1\n",
            "  (15075, 57855)\t2\n",
            "  (15075, 89268)\t1\n",
            "  (15075, 115188)\t1\n",
            "  (15075, 70394)\t1\n",
            "  (15075, 30058)\t1\n",
            "  (15075, 65449)\t3\n"
          ],
          "name": "stdout"
        }
      ]
    },
    {
      "cell_type": "code",
      "metadata": {
        "id": "RJiADxrcTdFs",
        "colab_type": "code",
        "outputId": "2ad3d1e5-37cb-4b46-ddac-54977b70d6de",
        "colab": {
          "base_uri": "https://localhost:8080/",
          "height": 1000
        }
      },
      "source": [
        "print(vectorizer.vocabulary_)"
      ],
      "execution_count": 0,
      "outputs": [
        {
          "output_type": "execute_result",
          "data": {
            "text/plain": [
              "{'from': 62951,\n",
              " 'mcg2': 88397,\n",
              " 'lehigh': 82891,\n",
              " 'edu': 55791,\n",
              " 'marc': 87370,\n",
              " 'gabriel': 63906,\n",
              " 'subject': 122234,\n",
              " 'lymenet': 85355,\n",
              " 'newsletter': 95390,\n",
              " 'vol': 133965,\n",
              " '09': 1681,\n",
              " 'lines': 83759,\n",
              " '344': 13630,\n",
              " 'lyme': 85354,\n",
              " 'disease': 52608,\n",
              " 'electronic': 56378,\n",
              " 'mail': 86824,\n",
              " 'network': 95180,\n",
              " 'volume': 134016,\n",
              " 'number': 96967,\n",
              " '26': 11360,\n",
              " '93': 23657,\n",
              " 'introduction': 75170,\n",
              " 'ii': 72819,\n",
              " 'announcements': 30848,\n",
              " 'iii': 72851,\n",
              " 'news': 95363,\n",
              " 'the': 125683,\n",
              " 'wires': 136640,\n",
              " 'iv': 76089,\n",
              " 'questions': 107844,\n",
              " 'answers': 30950,\n",
              " 'op': 98649,\n",
              " 'ed': 55670,\n",
              " 'section': 115956,\n",
              " 'vi': 133275,\n",
              " 'jargon': 76718,\n",
              " 'index': 73841,\n",
              " 'vii': 133442,\n",
              " 'how': 70920,\n",
              " 'to': 126851,\n",
              " 'subscribe': 122314,\n",
              " 'contribute': 46696,\n",
              " 'and': 30591,\n",
              " 'get': 64930,\n",
              " 'back': 34235,\n",
              " 'issues': 75894,\n",
              " 'in': 73517,\n",
              " 'this': 126010,\n",
              " 'issue': 75892,\n",
              " 'of': 97971,\n",
              " 'we': 135496,\n",
              " 'learn': 82696,\n",
              " 'cdc': 42342,\n",
              " 'announced': 30844,\n",
              " 'concern': 45942,\n",
              " 'for': 62176,\n",
              " 'resurgence': 111253,\n",
              " 'infectious': 74064,\n",
              " 'diseases': 52610,\n",
              " 'united': 130698,\n",
              " 'states': 121100,\n",
              " 'thanks': 125650,\n",
              " 'jonathan': 77866,\n",
              " 'lord': 84557,\n",
              " 'sending': 116260,\n",
              " 'me': 88712,\n",
              " 'upi': 131304,\n",
              " 'release': 110379,\n",
              " 'they': 125915,\n",
              " 'would': 137223,\n",
              " 'feature': 60486,\n",
              " 'new': 95305,\n",
              " 'series': 116459,\n",
              " 'articles': 32258,\n",
              " 'morbidity': 91961,\n",
              " 'mortality': 92054,\n",
              " 'weekly': 135598,\n",
              " 'report': 110799,\n",
              " 'on': 98484,\n",
              " 'these': 125890,\n",
              " 'ld': 82593,\n",
              " 'is': 75679,\n",
              " 'one': 98510,\n",
              " 'them': 125751,\n",
              " 'will': 136353,\n",
              " 'keep': 79475,\n",
              " 'you': 140532,\n",
              " 'up': 131255,\n",
              " 'date': 49786,\n",
              " 'addition': 28253,\n",
              " 'wall': 135004,\n",
              " 'street': 121858,\n",
              " 'journal': 77941,\n",
              " 'article': 32257,\n",
              " 'legal': 82824,\n",
              " 'surrounding': 123139,\n",
              " 'also': 30009,\n",
              " 'look': 84492,\n",
              " 'at': 32790,\n",
              " 'effects': 55928,\n",
              " 'perspective': 102209,\n",
              " 'urologists': 131496,\n",
              " 'an': 30448,\n",
              " 'abstract': 27607,\n",
              " 'entitled': 57369,\n",
              " 'urinary': 131473,\n",
              " 'dysfunction': 54975,\n",
              " 'finally': 61200,\n",
              " 'terry': 125407,\n",
              " 'morse': 92048,\n",
              " 'asks': 32460,\n",
              " 'intriguing': 75157,\n",
              " 'question': 107831,\n",
              " 'about': 27511,\n",
              " 'tick': 126338,\n",
              " 'habitat': 67862,\n",
              " 'source': 119578,\n",
              " 'update': 131276,\n",
              " 'call': 41185,\n",
              " 'attention': 33002,\n",
              " 'health': 68989,\n",
              " 'care': 41651,\n",
              " 'professionals': 105560,\n",
              " 'like': 83613,\n",
              " 'publish': 106341,\n",
              " 'your': 140553,\n",
              " 'diagnosis': 51860,\n",
              " 'treatment': 127883,\n",
              " 'patients': 101262,\n",
              " 'physical': 102809,\n",
              " 'mental': 89244,\n",
              " 'ldu': 82632,\n",
              " 'has': 68594,\n",
              " 'monthly': 91865,\n",
              " 'circulation': 43965,\n",
              " '000': 1,\n",
              " 'our': 99498,\n",
              " 'mailing': 86839,\n",
              " 'list': 83884,\n",
              " 'includes': 73656,\n",
              " 'physicians': 102816,\n",
              " 'researchers': 110964,\n",
              " 'county': 47347,\n",
              " 'departments': 51091,\n",
              " 'over': 99699,\n",
              " '100': 2505,\n",
              " 'support': 123001,\n",
              " 'groups': 66818,\n",
              " 'nationwide': 94533,\n",
              " 'strive': 121945,\n",
              " 'give': 65331,\n",
              " 'readers': 109316,\n",
              " 'information': 74182,\n",
              " 'prevention': 105201,\n",
              " 'practical': 104680,\n",
              " 'advice': 28575,\n",
              " 'living': 84003,\n",
              " 'with': 136690,\n",
              " 'should': 117367,\n",
              " 'be': 35273,\n",
              " 'approximately': 31556,\n",
              " '900': 23383,\n",
              " '1200': 3749,\n",
              " 'words': 137113,\n",
              " 'address': 28267,\n",
              " 'non': 96259,\n",
              " 'scientific': 115369,\n",
              " 'language': 82159,\n",
              " 'submit': 122280,\n",
              " 'box': 37923,\n",
              " '15711': 5536,\n",
              " '0711': 1472,\n",
              " 'evansville': 58489,\n",
              " '47716': 15734,\n",
              " 'or': 98929,\n",
              " 'fax': 60316,\n",
              " '812': 22103,\n",
              " '471': 15692,\n",
              " '1990': 7350,\n",
              " 'year': 140140,\n",
              " 'subscriptions': 122324,\n",
              " 'are': 31860,\n",
              " '19': 6977,\n",
              " '24': 10888,\n",
              " 'outside': 99639,\n",
              " 'us': 131518,\n",
              " 'subscription': 122323,\n",
              " 'requests': 110909,\n",
              " 'above': 27515,\n",
              " 'more': 91968,\n",
              " 'sender': 116256,\n",
              " 'jml4s': 77654,\n",
              " 'uva': 131856,\n",
              " 'pcmail': 101527,\n",
              " 'virginia': 133570,\n",
              " 'concerns': 45946,\n",
              " 'thursday': 126277,\n",
              " 'april': 31594,\n",
              " '15': 5166,\n",
              " '1993': 7364,\n",
              " 'atlanta': 32894,\n",
              " 'blamed': 36885,\n",
              " 'newly': 95349,\n",
              " 'emerging': 56731,\n",
              " 'viruses': 133596,\n",
              " 'bacteria': 34317,\n",
              " 'pose': 104316,\n",
              " 'major': 86921,\n",
              " 'challenge': 42869,\n",
              " 'nation': 94513,\n",
              " 'system': 123775,\n",
              " 'federal': 60511,\n",
              " 'officials': 98031,\n",
              " 'said': 114340,\n",
              " 'centers': 42527,\n",
              " 'control': 46714,\n",
              " 'reporting': 110806,\n",
              " 'its': 76014,\n",
              " 'latest': 82333,\n",
              " 'findings': 61223,\n",
              " 'investigation': 75262,\n",
              " 'contaminated': 46556,\n",
              " 'hamburger': 68151,\n",
              " 'meat': 88804,\n",
              " 'that': 125666,\n",
              " 'sickened': 117573,\n",
              " 'hundreds': 71465,\n",
              " 'killed': 80069,\n",
              " 'least': 82711,\n",
              " 'four': 62483,\n",
              " 'it': 75923,\n",
              " 'put': 106624,\n",
              " 'renewed': 110622,\n",
              " 'emphasis': 56819,\n",
              " 'battling': 35024,\n",
              " 'part': 101013,\n",
              " 'titled': 126628,\n",
              " 'featured': 60487,\n",
              " 'which': 136018,\n",
              " 'wide': 136221,\n",
              " 'community': 45542,\n",
              " 'top': 127119,\n",
              " 'agenda': 28937,\n",
              " 'two': 128857,\n",
              " 'day': 49909,\n",
              " 'meeting': 88967,\n",
              " 'counselors': 47292,\n",
              " 'draft': 54032,\n",
              " 'plan': 103400,\n",
              " 'dealing': 50147,\n",
              " 'growing': 66836,\n",
              " 'threat': 126131,\n",
              " 'ailments': 29216,\n",
              " 'been': 35472,\n",
              " 'coming': 45371,\n",
              " 'do': 53389,\n",
              " 'have': 68719,\n",
              " 'responsibility': 111161,\n",
              " 'deal': 50142,\n",
              " 'dr': 54012,\n",
              " 'ruth': 113584,\n",
              " 'berkelman': 35894,\n",
              " 'deputy': 51194,\n",
              " 'director': 52349,\n",
              " 'national': 94515,\n",
              " 'center': 42517,\n",
              " 'there': 125833,\n",
              " 'were': 135749,\n",
              " 'cases': 41859,\n",
              " 'malaria': 86983,\n",
              " '1992': 7359,\n",
              " 'than': 125639,\n",
              " 'any': 31129,\n",
              " 'since': 117940,\n",
              " '1960s': 7279,\n",
              " 'latin': 82338,\n",
              " 'america': 30237,\n",
              " 'experiencing': 59071,\n",
              " 'cholera': 43506,\n",
              " 'epidemic': 57567,\n",
              " 'first': 61346,\n",
              " 'century': 42572,\n",
              " 'she': 116991,\n",
              " 'resistance': 111045,\n",
              " 'causing': 42056,\n",
              " 'agents': 28941,\n",
              " 'antibiotics': 31006,\n",
              " 'problem': 105437,\n",
              " 'seeing': 116015,\n",
              " 'much': 92971,\n",
              " 'antibiotic': 31005,\n",
              " 'past': 101174,\n",
              " 'berkleman': 35899,\n",
              " 'even': 58507,\n",
              " 'common': 45494,\n",
              " 'ear': 55321,\n",
              " 'infections': 74063,\n",
              " 'frequently': 62829,\n",
              " 'seen': 116032,\n",
              " 'children': 43365,\n",
              " 'becoming': 35413,\n",
              " 'resistant': 111047,\n",
              " 'despite': 51408,\n",
              " 'predictions': 104883,\n",
              " 'earlier': 55332,\n",
              " 'soon': 119451,\n",
              " 'eliminated': 56460,\n",
              " 'as': 32321,\n",
              " 'public': 106331,\n",
              " 'remain': 110482,\n",
              " 'cause': 42050,\n",
              " 'death': 50170,\n",
              " 'worldwide': 137177,\n",
              " 'leading': 82650,\n",
              " 'illness': 73012,\n",
              " 'cited': 44028,\n",
              " 'emergence': 56726,\n",
              " '1970s': 7304,\n",
              " 'myriad': 93778,\n",
              " 'identified': 72530,\n",
              " 'pathogens': 101247,\n",
              " 'syndromes': 123695,\n",
              " 'such': 122472,\n",
              " 'escherichia': 57984,\n",
              " 'coli': 45088,\n",
              " 'o157': 97262,\n",
              " 'h7': 67707,\n",
              " 'deadly': 50135,\n",
              " 'bacterial': 34318,\n",
              " 'infection': 74062,\n",
              " 'hepatitis': 69382,\n",
              " 'virus': 133595,\n",
              " 'hiv': 70074,\n",
              " 'causes': 42054,\n",
              " 'aids': 29199,\n",
              " 'legionnaires': 82857,\n",
              " 'toxic': 127379,\n",
              " 'shock': 117257,\n",
              " 'syndrome': 123694,\n",
              " 'incidences': 73625,\n",
              " 'many': 87324,\n",
              " 'widely': 136224,\n",
              " 'presumed': 105145,\n",
              " 'under': 130278,\n",
              " 'tuberculosis': 128479,\n",
              " 'increased': 73746,\n",
              " 'areas': 31865,\n",
              " 'efforts': 55952,\n",
              " 'undermined': 130332,\n",
              " 'by': 39490,\n",
              " 'drug': 54290,\n",
              " 'reference': 109960,\n",
              " '04': 1040,\n",
              " 'pb1': 101413,\n",
              " 'headline': 68959,\n",
              " 'ruling': 113459,\n",
              " 'raises': 108636,\n",
              " 'liability': 83352,\n",
              " 'may': 88052,\n",
              " 'found': 62468,\n",
              " 'way': 135341,\n",
              " 'damage': 49495,\n",
              " 'judge': 78268,\n",
              " 'decision': 50314,\n",
              " 'holding': 70415,\n",
              " 'property': 105799,\n",
              " 'owner': 99973,\n",
              " 'liable': 83353,\n",
              " 'not': 96514,\n",
              " 'doing': 53552,\n",
              " 'enough': 57266,\n",
              " 'protect': 105919,\n",
              " 'workers': 137132,\n",
              " 'getting': 64974,\n",
              " 'medical': 88897,\n",
              " 'study': 122091,\n",
              " 'flu': 61831,\n",
              " 'can': 41345,\n",
              " 'severe': 116613,\n",
              " 'disabilities': 52375,\n",
              " 'rare': 108851,\n",
              " 'instances': 74635,\n",
              " 'last': 82301,\n",
              " 'week': 135590,\n",
              " 'owners': 99974,\n",
              " 'notice': 96549,\n",
              " 'themselves': 125765,\n",
              " 'ticks': 126347,\n",
              " 'litigation': 83939,\n",
              " 'if': 72643,\n",
              " 'someone': 119375,\n",
              " 'becomes': 35412,\n",
              " 'infected': 74061,\n",
              " 'while': 136025,\n",
              " 'district': 52986,\n",
              " 'robert': 112535,\n",
              " 'ward': 135111,\n",
              " 'york': 140513,\n",
              " 'came': 41284,\n",
              " 'after': 28859,\n",
              " 'long': 84455,\n",
              " 'trial': 127957,\n",
              " 'case': 41854,\n",
              " 'involving': 75304,\n",
              " 'track': 127500,\n",
              " 'island': 75785,\n",
              " 'railroad': 108605,\n",
              " 'contracted': 46659,\n",
              " 'bitten': 36705,\n",
              " 'job': 77726,\n",
              " 'he': 68927,\n",
              " 'ordered': 99005,\n",
              " 'state': 121090,\n",
              " 'owned': 99972,\n",
              " 'commuter': 45550,\n",
              " 'line': 83731,\n",
              " 'pay': 101381,\n",
              " '560': 17258,\n",
              " 'compensate': 45657,\n",
              " 'pain': 100517,\n",
              " 'suffering': 122521,\n",
              " 'expenses': 59054,\n",
              " 'lost': 84606,\n",
              " 'wages': 134905,\n",
              " 'summer': 122664,\n",
              " 'camps': 41334,\n",
              " 'schools': 115288,\n",
              " 'companies': 45573,\n",
              " 'facilities': 59802,\n",
              " 'rural': 113529,\n",
              " 'semirural': 116225,\n",
              " 'homeowners': 70532,\n",
              " 'who': 136128,\n",
              " 'rent': 110653,\n",
              " 'vacationers': 132303,\n",
              " 'among': 30347,\n",
              " 'need': 94886,\n",
              " 'worried': 137184,\n",
              " 'says': 114886,\n",
              " 'stephen': 121339,\n",
              " 'kass': 79215,\n",
              " 'attorney': 33030,\n",
              " 'law': 82435,\n",
              " 'firm': 61338,\n",
              " 'berle': 35905,\n",
              " 'wrote': 137417,\n",
              " 'three': 126139,\n",
              " 'years': 140147,\n",
              " 'ago': 29003,\n",
              " 'warning': 135159,\n",
              " 'potential': 104465,\n",
              " 'family': 60052,\n",
              " 'invites': 75284,\n",
              " 'friends': 62875,\n",
              " 'backyard': 34314,\n",
              " 'barbecue': 34693,\n",
              " 'might': 90156,\n",
              " 'potentially': 104466,\n",
              " 'lawsuits': 82462,\n",
              " 'insect': 74536,\n",
              " 'bites': 36676,\n",
              " 'aren': 31872,\n",
              " 'unheard': 130571,\n",
              " 'vacationer': 132302,\n",
              " 'southampton': 119595,\n",
              " 'sued': 122509,\n",
              " 'home': 70513,\n",
              " 'rented': 110655,\n",
              " 'claiming': 44209,\n",
              " 'gave': 64341,\n",
              " 'her': 69389,\n",
              " 'rocky': 112634,\n",
              " 'mountain': 92235,\n",
              " 'spotted': 120299,\n",
              " 'fever': 60807,\n",
              " '1988': 7345,\n",
              " 'jury': 78423,\n",
              " 'outdoor': 99535,\n",
              " 'restaurant': 111192,\n",
              " 'million': 90330,\n",
              " 'patron': 101301,\n",
              " 'was': 135204,\n",
              " 'stung': 122113,\n",
              " 'bee': 35452,\n",
              " 'allergic': 29835,\n",
              " 'reaction': 109296,\n",
              " 'permanent': 102073,\n",
              " 'quadriplegia': 107673,\n",
              " 'later': 82328,\n",
              " 'threw': 126148,\n",
              " 'out': 99511,\n",
              " 'award': 33603,\n",
              " 'citing': 44039,\n",
              " 'no': 96148,\n",
              " 'evidence': 58577,\n",
              " 'beehive': 35463,\n",
              " 'near': 94805,\n",
              " 'but': 39300,\n",
              " 'lawyers': 82467,\n",
              " 'say': 114874,\n",
              " 'throughout': 126190,\n",
              " 'country': 47343,\n",
              " 'most': 92126,\n",
              " 'prevalent': 105191,\n",
              " 'england': 57175,\n",
              " 'middle': 90101,\n",
              " 'atlantic': 32897,\n",
              " 'wisconsin': 136657,\n",
              " 'minnesota': 90489,\n",
              " 'northwest': 96477,\n",
              " 'make': 86935,\n",
              " 'particular': 101059,\n",
              " 'bite': 36674,\n",
              " 'particularly': 101062,\n",
              " 'litigious': 83940,\n",
              " 'already': 30002,\n",
              " 'proved': 105987,\n",
              " 'controversy': 46732,\n",
              " 'courtroom': 47397,\n",
              " 'type': 128940,\n",
              " 'insurers': 74740,\n",
              " 'cover': 47433,\n",
              " 'malpractice': 87067,\n",
              " 'claims': 44210,\n",
              " 'against': 28907,\n",
              " 'doctors': 53461,\n",
              " 'diagnosing': 51859,\n",
              " 'worker': 137130,\n",
              " 'compensation': 45661,\n",
              " 'related': 110345,\n",
              " 'become': 35411,\n",
              " 'some': 119362,\n",
              " 'recent': 109567,\n",
              " 'payments': 101399,\n",
              " 'however': 70938,\n",
              " 'limited': 83670,\n",
              " 'costs': 47230,\n",
              " 'earnings': 55347,\n",
              " 'before': 35502,\n",
              " 'dealt': 50152,\n",
              " 'lucrative': 85031,\n",
              " 'avenue': 33473,\n",
              " 'damages': 49498,\n",
              " 'because': 35394,\n",
              " 'involved': 75300,\n",
              " 'negligence': 94934,\n",
              " 'unlike': 130795,\n",
              " 'process': 105477,\n",
              " 'governing': 66124,\n",
              " 'injuries': 74377,\n",
              " 'rail': 108599,\n",
              " 'allows': 29891,\n",
              " 'finding': 61222,\n",
              " 'result': 111235,\n",
              " 'additional': 28254,\n",
              " 'made': 86618,\n",
              " 'other': 99404,\n",
              " 'situations': 118094,\n",
              " 'where': 135986,\n",
              " 'people': 101909,\n",
              " 'exposed': 59164,\n",
              " 'carry': 41782,\n",
              " 'ira': 75509,\n",
              " 'maurer': 87950,\n",
              " 'partner': 101083,\n",
              " 'elkind': 56495,\n",
              " 'flynn': 61889,\n",
              " 'represented': 110831,\n",
              " 'help': 69271,\n",
              " 'establish': 58104,\n",
              " 'duty': 54779,\n",
              " 'all': 29794,\n",
              " 'sorts': 119529,\n",
              " 'caution': 42060,\n",
              " 'winning': 136559,\n",
              " 'lawsuit': 82461,\n",
              " 'caused': 42051,\n",
              " 'prove': 105985,\n",
              " 'difficult': 52098,\n",
              " 'thing': 125964,\n",
              " 'victims': 133330,\n",
              " 'demonstrate': 50970,\n",
              " 'pinned': 103067,\n",
              " 'down': 53878,\n",
              " 'when': 135982,\n",
              " 'got': 66069,\n",
              " 'plaintiffs': 103396,\n",
              " 'working': 137139,\n",
              " 'though': 126096,\n",
              " 'none': 96285,\n",
              " 'men': 89192,\n",
              " 'remembered': 110519,\n",
              " 'being': 35589,\n",
              " 'weren': 135751,\n",
              " 'outdoorsmen': 99538,\n",
              " 'likely': 83619,\n",
              " 'elsewhere': 56576,\n",
              " 'insects': 74539,\n",
              " 'saw': 114854,\n",
              " 'high': 69816,\n",
              " 'grass': 66436,\n",
              " 'surrounded': 123138,\n",
              " 'work': 137122,\n",
              " 'sites': 118076,\n",
              " 'spokeswoman': 120213,\n",
              " 'proof': 105758,\n",
              " 'considering': 46380,\n",
              " 'appeal': 31377,\n",
              " 'disputes': 52845,\n",
              " 'didn': 52007,\n",
              " 'employees': 56844,\n",
              " 'provides': 106006,\n",
              " 'repellent': 110723,\n",
              " 'special': 119860,\n",
              " 'pants': 100748,\n",
              " 'bug': 38942,\n",
              " 'debate': 50192,\n",
              " 'could': 47271,\n",
              " 'open': 98677,\n",
              " 'defenses': 50557,\n",
              " 'questioning': 107840,\n",
              " 'whether': 136006,\n",
              " 'victim': 133323,\n",
              " 'actually': 28115,\n",
              " 'rather': 108905,\n",
              " 'american': 30241,\n",
              " 'association': 32626,\n",
              " 'reported': 110802,\n",
              " 'overly': 99795,\n",
              " 'diagnose': 51856,\n",
              " 'having': 68736,\n",
              " 'awarded': 33604,\n",
              " 'influenced': 74141,\n",
              " 'degree': 50681,\n",
              " 'harm': 68499,\n",
              " 'safety': 114299,\n",
              " 'take': 124321,\n",
              " 'measures': 88797,\n",
              " 'headquarters': 68967,\n",
              " 'franklin': 62681,\n",
              " 'lakes': 82025,\n",
              " 'becton': 35417,\n",
              " 'dickinson': 51968,\n",
              " 'co': 44817,\n",
              " 'began': 35511,\n",
              " 'using': 131610,\n",
              " 'damminix': 49515,\n",
              " 'pesticide': 102271,\n",
              " 'ecohealth': 55592,\n",
              " 'inc': 73584,\n",
              " 'boston': 37802,\n",
              " 'designed': 51339,\n",
              " 'kill': 80065,\n",
              " 'carrying': 41783,\n",
              " 'supply': 122998,\n",
              " 'company': 45577,\n",
              " 'include': 73651,\n",
              " '120': 3748,\n",
              " 'acre': 28040,\n",
              " 'park': 100939,\n",
              " 'walk': 134990,\n",
              " 'trails': 127575,\n",
              " 'recreation': 109741,\n",
              " 'lister': 83896,\n",
              " 'camping': 41331,\n",
              " 'indianapolis': 73851,\n",
              " 'youth': 140576,\n",
              " 'accredited': 27830,\n",
              " 'organization': 99062,\n",
              " 'begun': 35541,\n",
              " 'check': 43137,\n",
              " 'carole': 41733,\n",
              " 'katz': 79259,\n",
              " 'member': 89135,\n",
              " 'board': 37328,\n",
              " 'fire': 61299,\n",
              " 'pines': 103048,\n",
              " 'group': 66812,\n",
              " 'spends': 120010,\n",
              " '30': 13018,\n",
              " 'each': 55281,\n",
              " 'treat': 127876,\n",
              " 'their': 125735,\n",
              " 'site': 118074,\n",
              " 'off': 97987,\n",
              " 'coast': 44842,\n",
              " 'killing': 80080,\n",
              " 'title': 126624,\n",
              " 'authors': 33294,\n",
              " 'chancellor': 42906,\n",
              " 'mb': 88107,\n",
              " 'mcginnis': 88409,\n",
              " 'de': 50107,\n",
              " 'shenot': 117081,\n",
              " 'pj': 103240,\n",
              " 'kiilholma': 80054,\n",
              " 'hirsch': 69992,\n",
              " 'ih': 72767,\n",
              " 'department': 51090,\n",
              " 'urology': 131497,\n",
              " 'jefferson': 77023,\n",
              " 'college': 45137,\n",
              " 'thomas': 126038,\n",
              " 'university': 130736,\n",
              " 'philadelphia': 102577,\n",
              " 'pennsylvania': 101868,\n",
              " 'urol': 131493,\n",
              " 'jan': 76667,\n",
              " '149': 5121,\n",
              " 'spirochete': 120126,\n",
              " 'borrelia': 37747,\n",
              " 'burgdorferi': 39161,\n",
              " 'associated': 32622,\n",
              " 'variety': 132563,\n",
              " 'neurological': 95225,\n",
              " 'sequelae': 116391,\n",
              " 'describe': 51287,\n",
              " 'neuro': 95212,\n",
              " 'borreliosis': 37748,\n",
              " 'had': 67904,\n",
              " 'lower': 84695,\n",
              " 'tract': 127510,\n",
              " 'urodynamic': 131492,\n",
              " 'evaluation': 58460,\n",
              " 'revealed': 111406,\n",
              " 'detrusor': 51568,\n",
              " 'hyperreflexia': 71762,\n",
              " 'areflexia': 31869,\n",
              " 'external': 59237,\n",
              " 'sphincter': 120044,\n",
              " 'dyssynergia': 54985,\n",
              " 'noted': 96533,\n",
              " 'electromyography': 56376,\n",
              " 'patient': 101260,\n",
              " 'observed': 97666,\n",
              " 'respects': 111128,\n",
              " 'course': 47380,\n",
              " 'voiding': 133954,\n",
              " 'directly': 52347,\n",
              " 'invade': 75204,\n",
              " 'bladder': 36868,\n",
              " 'documented': 53478,\n",
              " 'biopsy': 36574,\n",
              " 'urological': 131494,\n",
              " 'symptoms': 123650,\n",
              " 'slow': 118634,\n",
              " 'resolve': 111076,\n",
              " 'convalescence': 46744,\n",
              " 'protracted': 105971,\n",
              " 'relapses': 110340,\n",
              " 'active': 28088,\n",
              " 'residual': 111028,\n",
              " 'deficits': 50577,\n",
              " 'practicing': 104687,\n",
              " 'endemic': 57048,\n",
              " 'aware': 33606,\n",
              " 'differential': 52082,\n",
              " 'neurogenic': 95220,\n",
              " 'conservative': 46359,\n",
              " 'management': 87116,\n",
              " 'including': 73657,\n",
              " 'clean': 44339,\n",
              " 'intermittent': 74958,\n",
              " 'catheterization': 41999,\n",
              " 'guided': 67167,\n",
              " 'recommended': 109674,\n",
              " 'note': 96530,\n",
              " 'response': 111155,\n",
              " 'please': 103535,\n",
              " 'forward': 62432,\n",
              " 'editor': 55749,\n",
              " 'morset': 92050,\n",
              " 'ccmail': 42279,\n",
              " 'orst': 99210,\n",
              " 'vectors': 132821,\n",
              " 'compost': 45771,\n",
              " 'piles': 102997,\n",
              " 'visited': 133640,\n",
              " 'my': 93677,\n",
              " 'sister': 118066,\n",
              " 'ny': 97160,\n",
              " 'cautioned': 42062,\n",
              " 'avoid': 33524,\n",
              " 'heap': 68997,\n",
              " 'yard': 140020,\n",
              " 'thinks': 125984,\n",
              " 'became': 35390,\n",
              " 'friend': 62871,\n",
              " 'mine': 90413,\n",
              " 'here': 69414,\n",
              " 'oregon': 99034,\n",
              " 'claim': 44206,\n",
              " 'documentation': 53477,\n",
              " 'hang': 68302,\n",
              " 'heaps': 69001,\n",
              " 'thank': 125643,\n",
              " 'subscribers': 122318,\n",
              " 'express': 59179,\n",
              " 'opinion': 98749,\n",
              " 'bb': 35089,\n",
              " 'name': 94344,\n",
              " 'bacterium': 34321,\n",
              " 'agency': 28936,\n",
              " 'charge': 43013,\n",
              " 'tracking': 127506,\n",
              " 'programs': 105625,\n",
              " 'prevent': 105195,\n",
              " 'cns': 44797,\n",
              " 'central': 42543,\n",
              " 'nervous': 95084,\n",
              " 'elisa': 56474,\n",
              " 'enzyme': 57484,\n",
              " 'linked': 83790,\n",
              " 'immunosorbent': 73250,\n",
              " 'assays': 32556,\n",
              " 'antibody': 31008,\n",
              " 'test': 125435,\n",
              " 'em': 56617,\n",
              " 'erythema': 57931,\n",
              " 'migrans': 90173,\n",
              " 'bull': 39018,\n",
              " 'eye': 59340,\n",
              " 'rash': 108861,\n",
              " 'appears': 31390,\n",
              " '60': 18269,\n",
              " 'early': 55337,\n",
              " 'ifa': 72652,\n",
              " 'indirect': 73882,\n",
              " 'fluorescent': 61855,\n",
              " 'abbreviation': 27374,\n",
              " 'nih': 95773,\n",
              " 'institutes': 74671,\n",
              " 'conducts': 46062,\n",
              " 'research': 110961,\n",
              " 'grants': 66378,\n",
              " 'interests': 74899,\n",
              " 'pcr': 101540,\n",
              " 'polymerase': 104081,\n",
              " 'chain': 42837,\n",
              " 'detects': 51503,\n",
              " 'dna': 53353,\n",
              " 'sequence': 116392,\n",
              " 'microbe': 89972,\n",
              " 'currently': 48655,\n",
              " 'tested': 125444,\n",
              " 'use': 131554,\n",
              " 'detecting': 51496,\n",
              " 'tb': 124698,\n",
              " 'given': 65335,\n",
              " 'due': 54564,\n",
              " 'spiral': 120110,\n",
              " 'shape': 116893,\n",
              " 'western': 135794,\n",
              " 'blot': 37125,\n",
              " 'precise': 104821,\n",
              " 'anyone': 31147,\n",
              " 'internet': 74979,\n",
              " 'send': 116252,\n",
              " 'memo': 89163,\n",
              " 'listserv': 83906,\n",
              " 'body': 37409,\n",
              " 'real': 109349,\n",
              " 'available': 33434,\n",
              " 'single': 117975,\n",
              " 'page': 100470,\n",
              " '215': 10105,\n",
              " '974': 24345,\n",
              " '6410': 18706,\n",
              " 'further': 63349,\n",
              " 'deletions': 50787,\n",
              " 'unsubscribe': 131074,\n",
              " 'contributions': 46702,\n",
              " 'encouraged': 56979,\n",
              " 'items': 75961,\n",
              " 'commentaries': 45426,\n",
              " 'newsletters': 95391,\n",
              " 'yy': 140840,\n",
              " 'example': 58741,\n",
              " '01': 385,\n",
              " 'chief': 43339,\n",
              " 'contributing': 46700,\n",
              " 'editors': 55753,\n",
              " 'carl': 41690,\n",
              " 'brenner': 38267,\n",
              " 'lamont': 82065,\n",
              " 'ldgo': 82613,\n",
              " 'columbia': 45266,\n",
              " 'john': 77785,\n",
              " 'setel': 116543,\n",
              " 'donnell': 53667,\n",
              " 'jod': 77741,\n",
              " 'equator': 57693,\n",
              " 'com': 45279,\n",
              " 'advisors': 28587,\n",
              " 'carol': 41731,\n",
              " 'jane': 76670,\n",
              " 'stolow': 121627,\n",
              " 'william': 136372,\n",
              " 'president': 105101,\n",
              " 'jersey': 77131,\n",
              " '908': 23454,\n",
              " '390': 14261,\n",
              " '5027': 16682,\n",
              " 'proofreader': 105761,\n",
              " 'mackey': 86505,\n",
              " 'elm4': 56537,\n",
              " 'comments': 45435,\n",
              " 'presented': 105080,\n",
              " 'attribution': 33055,\n",
              " 'necessarily': 94853,\n",
              " 'represent': 110825,\n",
              " 'opinions': 98752,\n",
              " 'analyses': 30512,\n",
              " 'reproduced': 110851,\n",
              " 'posted': 104406,\n",
              " 'bulletin': 39030,\n",
              " 'boards': 37335,\n",
              " 'freely': 62770,\n",
              " 'modified': 91534,\n",
              " 'abridged': 27545,\n",
              " 'reports': 110807,\n",
              " 'cme': 44716,\n",
              " 'ellisun': 56530,\n",
              " 'sw': 123307,\n",
              " 'stratus': 121820,\n",
              " 'ellison': 56527,\n",
              " 're': 109272,\n",
              " 'lobby': 84282,\n",
              " 'computer': 45854,\n",
              " 'software': 119224,\n",
              " 'engineering': 57169,\n",
              " '18': 6589,\n",
              " 'distribution': 52982,\n",
              " 'inet': 74008,\n",
              " 'nntp': 96140,\n",
              " 'posting': 104419,\n",
              " 'host': 70811,\n",
              " '1993apr21': 7415,\n",
              " '163929': 5877,\n",
              " '21149': 9953,\n",
              " 'eff': 55909,\n",
              " 'org': 99047,\n",
              " 'charles': 43036,\n",
              " 'gross': 66780,\n",
              " 'acg': 27915,\n",
              " 'writes': 137385,\n",
              " 'nra': 96731,\n",
              " 'successful': 122447,\n",
              " 'things': 125970,\n",
              " 'drop': 54252,\n",
              " 'hat': 68646,\n",
              " 'congresspersons': 46224,\n",
              " 'office': 98022,\n",
              " 'flooded': 61763,\n",
              " 'postcards': 104399,\n",
              " 'faxes': 60320,\n",
              " 'phone': 102681,\n",
              " 'calls': 41215,\n",
              " 'certainly': 42623,\n",
              " 'cool': 46856,\n",
              " 'powers': 104573,\n",
              " 'act': 28067,\n",
              " 'same': 114480,\n",
              " 'action': 28078,\n",
              " 'appropriate': 31538,\n",
              " 'don': 53626,\n",
              " 'know': 80672,\n",
              " 'nearly': 94811,\n",
              " 'forgotten': 62302,\n",
              " 'generate': 64670,\n",
              " 'paper': 100773,\n",
              " 'congress': 46212,\n",
              " 'written': 137391,\n",
              " 'letters': 83108,\n",
              " 'now': 96627,\n",
              " 'haven': 68725,\n",
              " 'yet': 140225,\n",
              " 'turns': 128676,\n",
              " 'writing': 137388,\n",
              " 'complicated': 45735,\n",
              " 'those': 126088,\n",
              " 'hooked': 70647,\n",
              " 'disclaimer': 52494,\n",
              " 'expressed': 59180,\n",
              " 'own': 99971,\n",
              " 'm3': 85697,\n",
              " 'bkw': 36811,\n",
              " 'tel': 125048,\n",
              " '508': 16713,\n",
              " '460': 15590,\n",
              " '2783': 11684,\n",
              " '55': 17144,\n",
              " 'fairbanks': 59911,\n",
              " 'boulevard': 37859,\n",
              " 'marlborough': 87528,\n",
              " 'ma': 86308,\n",
              " '01752': 657,\n",
              " '1298': 4167,\n",
              " '624': 18529,\n",
              " ...}"
            ]
          },
          "metadata": {
            "tags": []
          },
          "execution_count": 59
        }
      ]
    },
    {
      "cell_type": "markdown",
      "metadata": {
        "id": "aMfEwdWyy5cr",
        "colab_type": "text"
      },
      "source": [
        "**2.1.1.3) Tf–idf term weighting(only for textual features)**\n",
        "\n",
        "In a large text corpus, some words are quite common (e.g. “the”, “a”, “is” in English). These words don't always convery meaningful information. However, if we were to feed the direct count data directly to a classifier those very frequent terms would shadow the frequencies of rarer yet more interesting terms.\n",
        "\n",
        "In order to re-weight the count features into floating point values suitable for usage by a classifier it is very common to use the tf–idf transform.\n",
        "\n",
        "tf means term-frequency while tf–idf means term-frequency times inverse document-frequency:\n",
        "\n",
        "$$\\text{tf-idf} = \\text{tf}(t,d)\\  \\text{X} \\ \\text{idf}(t)$$ \n",
        "  where :\n",
        "- $t$ =  term/token/word \n",
        " \n",
        "- $d$ = document or a paragraph\n",
        "\n",
        "- The $\\text{tf}(t,d)$ is the number of times a token $t$ appears in a document $d$\n",
        "\n",
        "- The idf is calculted as using the following formula:\n",
        "  $$log\\frac{n_{d}}{1+ \\text{df}(d,t)}$$\n",
        "  - where\n",
        "   - $n_{d}$ is the total number of documents\n",
        "   - $\\text{df}(d,t)$ is the number of documents $d$ that contain term $t$ "
      ]
    },
    {
      "cell_type": "code",
      "metadata": {
        "id": "hvEttHmBy5cs",
        "colab_type": "code",
        "outputId": "3dbbaf1f-5190-42e2-8495-eb08ad750723",
        "colab": {
          "base_uri": "https://localhost:8080/",
          "height": 55
        }
      },
      "source": [
        "from sklearn.feature_extraction.text import TfidfVectorizer\n",
        "\n",
        "tf_idf_vectorizer = TfidfVectorizer()\n",
        "vectors_train_idf = tf_idf_vectorizer.fit_transform(X_train)\n",
        "vectors_test_idf = vectorizer.transform(X_test)\n",
        "print(X_train[1:2])"
      ],
      "execution_count": 0,
      "outputs": [
        {
          "output_type": "stream",
          "text": [
            "[\"From: cme@ellisun.sw.stratus.com (Carl Ellison)\\nSubject: Re: I have seen the lobby, and it is us\\nOrganization: Stratus Computer, Software Engineering\\nLines: 18\\nDistribution: inet\\nNNTP-Posting-Host: ellisun.sw.stratus.com\\n\\nIn article <1993Apr21.163929.21149@eff.org> A. Charles Gross <acg@eff.org> writes:\\n>The NRA is successful because (among a number of things), on the drop of\\n>a hat, they can get a congresspersons office flooded with postcards,\\n>faxes and phone calls.  Certainly, with our way-cool Internet powers of\\n>organization, we can act in the same way, if such action is appropriate.\\n\\nI don't know about you, but I have nearly forgotten how to generate paper\\nmail.\\n\\nIf I had e-mail to Congress, I would have written many letters by now.\\nI haven't written one yet, as it turns out.  Writing on paper is such\\na complicated job, for those of us hooked on our way-cool Internet.\\n\\n-- \\n - <<Disclaimer: All opinions expressed are my own, of course.>>\\n - Carl Ellison                                        cme@sw.stratus.com\\n - Stratus Computer Inc.       M3-2-BKW                TEL: (508)460-2783\\n - 55 Fairbanks Boulevard ; Marlborough MA 01752-1298  FAX: (508)624-7488\\n\"]\n"
          ],
          "name": "stdout"
        }
      ]
    },
    {
      "cell_type": "code",
      "metadata": {
        "id": "UhbIA0EWy5cx",
        "colab_type": "code",
        "outputId": "36b9aa78-9b34-4b1f-967c-3a4144cd8e56",
        "colab": {
          "base_uri": "https://localhost:8080/",
          "height": 53
        }
      },
      "source": [
        "print(vectors_train_idf.shape)\n",
        "print(vectors_train_idf[0])"
      ],
      "execution_count": 0,
      "outputs": [
        {
          "output_type": "stream",
          "text": [
            "(15076, 142218)\n",
            "0.0\n"
          ],
          "name": "stdout"
        }
      ]
    },
    {
      "cell_type": "markdown",
      "metadata": {
        "id": "FMp472oFy5c1",
        "colab_type": "text"
      },
      "source": [
        "**2.1.1.4) Normalization**::\n",
        "While not mandatory, normalization usually improves the performance of the learner significantly. It ensures that the learner learns from the data on similar scales across features. There are many ways of normalizing the data.\n",
        "\n",
        "For now we'll stick to the default *l2* provided by scikit-learn."
      ]
    },
    {
      "cell_type": "code",
      "metadata": {
        "id": "QnbEtRqBqqfB",
        "colab_type": "code",
        "colab": {}
      },
      "source": [
        "from sklearn.preprocessing import normalize\n",
        "\n",
        "vectors_train_normalized = normalize(vectors_train)\n",
        "vectors_test_normalized = normalize(vectors_test)"
      ],
      "execution_count": 0,
      "outputs": []
    },
    {
      "cell_type": "markdown",
      "metadata": {
        "id": "CRTjpeXTy5c6",
        "colab_type": "text"
      },
      "source": [
        "**2.1.1.5) One-hot encoding of labels (for classification problems only)**\n",
        "The integer nature of the labels is not amenable for classification tasks. However, scikit-learn above internally handles the integer nature of our labels. In most other cases, the programmers need to represent them in a format that allows handling them explicitly. One such popular format is one-hot encoding. This one-hot encoding works similar to as explained in section 2.1.1.2. So, we are only refering to a function [here](http://scikit-learn.org/stable/modules/preprocessing_targets.html#) that does that for you but for labels in the context of classification."
      ]
    },
    {
      "cell_type": "markdown",
      "metadata": {
        "id": "zxfTNkXoy5c6",
        "colab_type": "text"
      },
      "source": [
        "![alt text](http://cs.mcgill.ca/~sthaku3/other_media/COMP551_tutorial_2/training.png)"
      ]
    },
    {
      "cell_type": "code",
      "metadata": {
        "id": "jxif9C3my5c7",
        "colab_type": "code",
        "colab": {}
      },
      "source": [
        "## Now we instantiate the classifier. Remember this can be any classifier, even the one you make.\n",
        "from sklearn.linear_model import LogisticRegression\n",
        "\n",
        "clf = LogisticRegression()"
      ],
      "execution_count": 0,
      "outputs": []
    },
    {
      "cell_type": "markdown",
      "metadata": {
        "id": "osRWgUIMy5dI",
        "colab_type": "text"
      },
      "source": [
        "**2.1.2.1) Fit**"
      ]
    },
    {
      "cell_type": "code",
      "metadata": {
        "id": "jvqyFeOpy5dL",
        "colab_type": "code",
        "outputId": "0f1d3b43-1724-4792-8ae3-3d600b905922",
        "colab": {
          "base_uri": "https://localhost:8080/",
          "height": 193
        }
      },
      "source": [
        "## Scikit Learn API is very simple and straightforward, which contains the basic commands:\n",
        "## `fit` to learn your parameters\n",
        "clf.fit(vectors_train, y_train)"
      ],
      "execution_count": 0,
      "outputs": [
        {
          "output_type": "stream",
          "text": [
            "/usr/local/lib/python3.6/dist-packages/sklearn/linear_model/logistic.py:432: FutureWarning: Default solver will be changed to 'lbfgs' in 0.22. Specify a solver to silence this warning.\n",
            "  FutureWarning)\n",
            "/usr/local/lib/python3.6/dist-packages/sklearn/linear_model/logistic.py:469: FutureWarning: Default multi_class will be changed to 'auto' in 0.22. Specify the multi_class option to silence this warning.\n",
            "  \"this warning.\", FutureWarning)\n"
          ],
          "name": "stderr"
        },
        {
          "output_type": "execute_result",
          "data": {
            "text/plain": [
              "LogisticRegression(C=1.0, class_weight=None, dual=False, fit_intercept=True,\n",
              "                   intercept_scaling=1, l1_ratio=None, max_iter=100,\n",
              "                   multi_class='warn', n_jobs=None, penalty='l2',\n",
              "                   random_state=None, solver='warn', tol=0.0001, verbose=0,\n",
              "                   warm_start=False)"
            ]
          },
          "metadata": {
            "tags": []
          },
          "execution_count": 39
        }
      ]
    },
    {
      "cell_type": "markdown",
      "metadata": {
        "id": "vxsozhnqy5dR",
        "colab_type": "text"
      },
      "source": [
        "**2.1.2.2) Predict**"
      ]
    },
    {
      "cell_type": "code",
      "metadata": {
        "id": "j9N0dW68y5dR",
        "colab_type": "code",
        "outputId": "4e0259c4-f717-45af-d229-62fb25ffb7de",
        "colab": {
          "base_uri": "https://localhost:8080/",
          "height": 919
        }
      },
      "source": [
        "## We get the predicted class\n",
        "print(vectors_test)\n",
        "y_pred = clf.predict(vectors_test)\n",
        "## So now we see we have a set of predictions. \n",
        "y_pred"
      ],
      "execution_count": 0,
      "outputs": [
        {
          "output_type": "stream",
          "text": [
            "  (0, 4152)\t1\n",
            "  (0, 4189)\t1\n",
            "  (0, 13018)\t1\n",
            "  (0, 13201)\t1\n",
            "  (0, 24126)\t1\n",
            "  (0, 27511)\t2\n",
            "  (0, 27743)\t1\n",
            "  (0, 28532)\t1\n",
            "  (0, 29941)\t2\n",
            "  (0, 30009)\t2\n",
            "  (0, 30109)\t1\n",
            "  (0, 30120)\t1\n",
            "  (0, 30448)\t1\n",
            "  (0, 30591)\t7\n",
            "  (0, 30912)\t1\n",
            "  (0, 31129)\t1\n",
            "  (0, 31133)\t1\n",
            "  (0, 31446)\t1\n",
            "  (0, 31528)\t4\n",
            "  (0, 31540)\t1\n",
            "  (0, 31594)\t1\n",
            "  (0, 31860)\t2\n",
            "  (0, 32124)\t1\n",
            "  (0, 34235)\t1\n",
            "  (0, 34372)\t3\n",
            "  :\t:\n",
            "  (3769, 76598)\t1\n",
            "  (3769, 76883)\t3\n",
            "  (3769, 78443)\t2\n",
            "  (3769, 79994)\t2\n",
            "  (3769, 83759)\t1\n",
            "  (3769, 88766)\t1\n",
            "  (3769, 89073)\t2\n",
            "  (3769, 99062)\t1\n",
            "  (3769, 102681)\t1\n",
            "  (3769, 105617)\t1\n",
            "  (3769, 105657)\t1\n",
            "  (3769, 109272)\t1\n",
            "  (3769, 110785)\t1\n",
            "  (3769, 110961)\t1\n",
            "  (3769, 122234)\t1\n",
            "  (3769, 123791)\t1\n",
            "  (3769, 124864)\t1\n",
            "  (3769, 124938)\t1\n",
            "  (3769, 125915)\t1\n",
            "  (3769, 126010)\t1\n",
            "  (3769, 126851)\t2\n",
            "  (3769, 133299)\t1\n",
            "  (3769, 135931)\t1\n",
            "  (3769, 136477)\t1\n",
            "  (3769, 136690)\t1\n"
          ],
          "name": "stdout"
        },
        {
          "output_type": "execute_result",
          "data": {
            "text/plain": [
              "array([ 2, 18,  8, ..., 12, 13,  5])"
            ]
          },
          "metadata": {
            "tags": []
          },
          "execution_count": 40
        }
      ]
    },
    {
      "cell_type": "markdown",
      "metadata": {
        "id": "ntuSHtL3y5dU",
        "colab_type": "text"
      },
      "source": [
        "### Evaluation\n",
        "\n",
        "To see how good or bad your classifier did, you should check the predictions with the gold standard dataset. The cool thing about scikit-learn is that it gives you several metrics to do so. You can even use your own classifier and use the list of predicted classes and gold standard classes to compare.\n",
        "\n",
        "![alt text](http://cs.mcgill.ca/~sthaku3/other_media/COMP551_tutorial_2/metrics.png)"
      ]
    },
    {
      "cell_type": "code",
      "metadata": {
        "id": "HYmHZ-rTy5dV",
        "colab_type": "code",
        "colab": {}
      },
      "source": [
        "from sklearn import metrics"
      ],
      "execution_count": 0,
      "outputs": []
    },
    {
      "cell_type": "markdown",
      "metadata": {
        "id": "L-zhRLJ4y5dX",
        "colab_type": "text"
      },
      "source": [
        "The `metrics` class provides a set of useful metrics you can use for your needs. For any classification task, you need to report mainly these metrics:\n",
        "\n",
        "- Accuracy : (TP + TN) / (TP + TN + FP + FN)\n",
        "- Precision : TP / (TP + FP)\n",
        "- F1 Score : 2TP / (2TP + FP + FN)\n",
        "- Recall Score : TP / (TP + FN)\n",
        "\n",
        "Remember, when we do multi-class classification, we use it in `macro` average mode, where we calculate metrics for each label, and find their unweighted mean. You can also instead use other averaging modes such as `micro`, `weighted`, `samples`"
      ]
    },
    {
      "cell_type": "code",
      "metadata": {
        "id": "3-_XmH8cy5dZ",
        "colab_type": "code",
        "outputId": "c609ec13-f2dd-4776-c13b-0b7b6824e877",
        "colab": {
          "base_uri": "https://localhost:8080/",
          "height": 35
        }
      },
      "source": [
        "metrics.accuracy_score(y_test, y_pred)"
      ],
      "execution_count": 0,
      "outputs": [
        {
          "output_type": "execute_result",
          "data": {
            "text/plain": [
              "0.903448275862069"
            ]
          },
          "metadata": {
            "tags": []
          },
          "execution_count": 42
        }
      ]
    },
    {
      "cell_type": "code",
      "metadata": {
        "id": "yWsflETwy5df",
        "colab_type": "code",
        "outputId": "c9f35da0-43b5-4532-ee6d-cd8c89b0f3e6",
        "colab": {
          "base_uri": "https://localhost:8080/",
          "height": 35
        }
      },
      "source": [
        "metrics.precision_score(y_test, y_pred, average='macro')"
      ],
      "execution_count": 0,
      "outputs": [
        {
          "output_type": "execute_result",
          "data": {
            "text/plain": [
              "0.9021714314002607"
            ]
          },
          "metadata": {
            "tags": []
          },
          "execution_count": 43
        }
      ]
    },
    {
      "cell_type": "code",
      "metadata": {
        "id": "YMCkGh6_y5dj",
        "colab_type": "code",
        "outputId": "0b718a28-4318-49ef-9ce9-3265a891aafa",
        "colab": {
          "base_uri": "https://localhost:8080/",
          "height": 35
        }
      },
      "source": [
        "metrics.f1_score(y_test, y_pred, average='macro')"
      ],
      "execution_count": 0,
      "outputs": [
        {
          "output_type": "execute_result",
          "data": {
            "text/plain": [
              "0.9006473028048397"
            ]
          },
          "metadata": {
            "tags": []
          },
          "execution_count": 44
        }
      ]
    },
    {
      "cell_type": "code",
      "metadata": {
        "id": "UKf3L8Wfy5dm",
        "colab_type": "code",
        "outputId": "9f5c72e5-332b-4fea-989c-ed6179a9b637",
        "colab": {
          "base_uri": "https://localhost:8080/",
          "height": 35
        }
      },
      "source": [
        "metrics.recall_score(y_test, y_pred, average='macro')"
      ],
      "execution_count": 0,
      "outputs": [
        {
          "output_type": "execute_result",
          "data": {
            "text/plain": [
              "0.8999497390966233"
            ]
          },
          "metadata": {
            "tags": []
          },
          "execution_count": 45
        }
      ]
    },
    {
      "cell_type": "code",
      "metadata": {
        "id": "2fYrfP3Wy5dq",
        "colab_type": "code",
        "outputId": "6caa80e8-7aa6-4587-a91f-3c8ff4e20b52",
        "colab": {
          "base_uri": "https://localhost:8080/",
          "height": 485
        }
      },
      "source": [
        "## You can show all of this in a single call\n",
        "print(metrics.classification_report(y_test, y_pred))"
      ],
      "execution_count": 0,
      "outputs": [
        {
          "output_type": "stream",
          "text": [
            "              precision    recall  f1-score   support\n",
            "\n",
            "           0       0.88      0.90      0.89       155\n",
            "           1       0.84      0.83      0.84       190\n",
            "           2       0.85      0.85      0.85       184\n",
            "           3       0.81      0.80      0.80       173\n",
            "           4       0.86      0.88      0.87       206\n",
            "           5       0.92      0.88      0.90       177\n",
            "           6       0.87      0.88      0.87       202\n",
            "           7       0.90      0.88      0.89       197\n",
            "           8       0.97      0.97      0.97       177\n",
            "           9       0.93      0.95      0.94       205\n",
            "          10       0.94      0.97      0.95       201\n",
            "          11       0.98      0.95      0.96       195\n",
            "          12       0.84      0.87      0.85       184\n",
            "          13       0.92      0.94      0.93       197\n",
            "          14       0.95      0.97      0.96       215\n",
            "          15       0.92      0.96      0.94       194\n",
            "          16       0.89      0.92      0.90       192\n",
            "          17       0.98      0.97      0.97       217\n",
            "          18       0.92      0.87      0.89       160\n",
            "          19       0.89      0.77      0.82       149\n",
            "\n",
            "    accuracy                           0.90      3770\n",
            "   macro avg       0.90      0.90      0.90      3770\n",
            "weighted avg       0.90      0.90      0.90      3770\n",
            "\n"
          ],
          "name": "stdout"
        }
      ]
    },
    {
      "cell_type": "code",
      "metadata": {
        "id": "A0lwFEchy5dw",
        "colab_type": "code",
        "outputId": "29aa3078-dabd-40e6-e549-ac2df475323a",
        "colab": {
          "base_uri": "https://localhost:8080/",
          "height": 35
        }
      },
      "source": [
        "### Cross Validation\n",
        "from sklearn.naive_bayes import MultinomialNB\n",
        "from sklearn.model_selection import cross_val_score\n",
        "clf = MultinomialNB(alpha=.01)\n",
        "scores = cross_val_score(clf, vectors_train, y_train, cv=5)\n",
        "print(scores)"
      ],
      "execution_count": 0,
      "outputs": [
        {
          "output_type": "stream",
          "text": [
            "[0.87925901 0.89503311 0.8916501  0.88704319 0.8828619 ]\n"
          ],
          "name": "stdout"
        }
      ]
    },
    {
      "cell_type": "markdown",
      "metadata": {
        "id": "bZjbQhbFy5dz",
        "colab_type": "text"
      },
      "source": [
        "## Grid Search\n",
        "\n",
        "When you are first searching for the best hyperparamters, its a good first strategy to run a grid search with the choice of hyperparameters to see which ones work the best for your dataset. "
      ]
    },
    {
      "cell_type": "code",
      "metadata": {
        "id": "yGY_4QEOy5d0",
        "colab_type": "code",
        "outputId": "872d05aa-02b0-4f57-a0a1-8d79f256e616",
        "colab": {
          "base_uri": "https://localhost:8080/",
          "height": 52
        }
      },
      "source": [
        "from sklearn.model_selection import GridSearchCV\n",
        "from sklearn.naive_bayes import MultinomialNB\n",
        "\n",
        "tuned_parameters = [{'alpha': [0.01, 1, 0.5, 0.2, 0.1, 0.4]}]\n",
        "\n",
        "n_folds = 5\n",
        "\n",
        "clf = MultinomialNB()\n",
        "clf = GridSearchCV(clf, tuned_parameters, cv=n_folds, refit=False)\n",
        "clf.fit(vectors_train, y_train)\n",
        "scores = clf.cv_results_['mean_test_score']\n",
        "scores_std = clf.cv_results_['std_test_score']\n",
        "print('scores:',scores)\n",
        "print('scores_std',scores_std)"
      ],
      "execution_count": 0,
      "outputs": [
        {
          "output_type": "stream",
          "text": [
            "scores: [0.87914566 0.83961263 0.86156806 0.87111966 0.87377288 0.86461926]\n",
            "scores_std [0.00558718 0.00243207 0.00422124 0.00646701 0.00586275 0.00443983]\n"
          ],
          "name": "stdout"
        }
      ]
    },
    {
      "cell_type": "markdown",
      "metadata": {
        "id": "U5GvObiLy5d9",
        "colab_type": "text"
      },
      "source": [
        "### Choice of Classifier\n",
        "![Choosing the right estimator](http://scikit-learn.org/stable/_static/ml_map.png)"
      ]
    },
    {
      "cell_type": "markdown",
      "metadata": {
        "id": "goA4J7bEy5d9",
        "colab_type": "text"
      },
      "source": [
        "### References\n",
        "\n",
        "1.[Scikit Learn](http://scikit-learn.org/)"
      ]
    },
    {
      "cell_type": "markdown",
      "metadata": {
        "id": "NFXcwe3iy5d-",
        "colab_type": "text"
      },
      "source": [
        "### Useful Links\n",
        "\n",
        "1. ROC Curve: http://scikit-learn.org/stable/auto_examples/model_selection/plot_roc.html\n",
        "2. https://people.duke.edu/~ccc14/sta-663/BlackBoxOptimization.html"
      ]
    }
  ]
}