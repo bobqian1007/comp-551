{
 "cells": [
  {
   "cell_type": "code",
   "execution_count": 1,
   "metadata": {},
   "outputs": [
    {
     "name": "stdout",
     "output_type": "stream",
     "text": [
      "x_train shape: (40000, 128, 128, 1)\n",
      "Number of images in x_train 40000\n",
      "Number of images in x_test 10000\n"
     ]
    }
   ],
   "source": [
    "import pandas as pd \n",
    "import numpy as np\n",
    "from sklearn.model_selection import train_test_split\n",
    "\n",
    "train_images = pd.read_pickle('D:/Study/Fall2019/COMP551/551A3/train_max_x.zip') \n",
    "x_train = np.reshape(train_images, (50000, 128, 128))\n",
    "x_train = x_train.reshape(x_train.shape[0], 128, 128, 1)\n",
    "\n",
    "df = pd.read_csv('D:/Study/Fall2019/COMP551/551A3/train_y_mod.csv')\n",
    "y_train = df.Label.to_numpy()\n",
    "\n",
    "X_train, X_test, y_train, y_test = train_test_split(x_train, y_train, test_size=0.2, random_state=42)\n",
    "\n",
    "\n",
    "# Reshaping the array to 4-dims so that it can work with the Keras API\n",
    "X_train = X_train.reshape(X_train.shape[0], 128, 128, 1)\n",
    "X_test = X_test.reshape(X_test.shape[0], 128, 128, 1)\n",
    "input_shape = (128, 128, 1)\n",
    "# Making sure that the values are float so that we can get decimal points after division\n",
    "X_train = X_train.astype('float32')\n",
    "X_test = X_test.astype('float32')\n",
    "# Normalizing the RGB codes by dividing it to the max RGB value.\n",
    "X_train /= 255.0\n",
    "X_test /= 255.0\n",
    "print('x_train shape:', X_train.shape)\n",
    "print('Number of images in x_train', X_train.shape[0])\n",
    "print('Number of images in x_test', X_test.shape[0])"
   ]
  },
  {
   "cell_type": "code",
   "execution_count": 2,
   "metadata": {},
   "outputs": [],
   "source": [
    "X_train[X_train < 0.8] = 0\n",
    "X_test[X_test < 0.8] = 0\n",
    "X_train[X_train > 0.8] = 1\n",
    "X_test[X_test > 0.8] = 1\n",
    "#X_train1 = X_train[0:10000]\n",
    "#X_train2 = X_train[10000:20000]\n",
    "#X_train3 = X_train[20000:30000]\n",
    "#X_train4 = X_train[30000:40000]\n",
    "\n",
    "#y_train1 = y_train[0:10000]\n",
    "#y_train2 = y_train[10000:20000]\n",
    "#y_train3 = y_train[20000:30000]\n",
    "#y_train4 = y_train[30000:40000]"
   ]
  },
  {
   "cell_type": "code",
   "execution_count": 3,
   "metadata": {},
   "outputs": [],
   "source": [
    "import tensorflow as tf\n",
    "\n",
    "\n",
    "from tensorflow.python.keras.models import Sequential\n",
    "from tensorflow.python.keras.layers import Dense, Dropout, Flatten, BatchNormalization, Activation\n",
    "from tensorflow.python.keras.layers.convolutional import Conv2D, MaxPooling2D\n",
    "from tensorflow.python.keras.constraints import maxnorm\n",
    "from tensorflow.python.keras.utils import np_utils\n"
   ]
  },
  {
   "cell_type": "code",
   "execution_count": 4,
   "metadata": {},
   "outputs": [
    {
     "name": "stdout",
     "output_type": "stream",
     "text": [
      "WARNING:tensorflow:From D:\\Anaconda\\AnacondaInstall\\envs\\tf_gpu\\lib\\site-packages\\tensorflow\\python\\ops\\init_ops.py:1251: calling VarianceScaling.__init__ (from tensorflow.python.ops.init_ops) with dtype is deprecated and will be removed in a future version.\n",
      "Instructions for updating:\n",
      "Call initializer instance with the dtype argument instead of passing it to the constructor\n"
     ]
    }
   ],
   "source": [
    "input_shape = (128, 128, 1)\n",
    "\n",
    "cnn4 = Sequential()\n",
    "cnn4.add(Conv2D(32, kernel_size=5, strides=1, input_shape=input_shape))\n",
    "cnn4.add(BatchNormalization())\n",
    "cnn4.add(Activation('relu'))\n",
    "\n",
    "cnn4.add(Conv2D(32, kernel_size=5, strides=1))\n",
    "cnn4.add(BatchNormalization())\n",
    "cnn4.add(Activation('relu'))\n",
    "cnn4.add(MaxPooling2D(pool_size=(2, 2)))\n",
    "#cnn4.add(Dropout(0.2))\n",
    "\n",
    "cnn4.add(Conv2D(64, kernel_size=5, strides=1,  padding='same'))\n",
    "cnn4.add(BatchNormalization())\n",
    "cnn4.add(Activation('relu'))\n",
    "\n",
    "cnn4.add(Conv2D(64, kernel_size=4, padding='same', strides=1))\n",
    "cnn4.add(BatchNormalization())\n",
    "cnn4.add(Activation('relu'))\n",
    "#cnn4.add(MaxPooling2D())\n",
    "#cnn4.add(Dropout(0.2))\n",
    "\n",
    "cnn4.add(Conv2D(128, kernel_size=5, strides=1))\n",
    "cnn4.add(BatchNormalization())\n",
    "cnn4.add(Activation('relu'))\n",
    "#cnn4.add(MaxPooling2D())\n",
    "#cnn4.add(Dropout(0.2))\n",
    "\n",
    "\n",
    "cnn4.add(Conv2D(128, kernel_size=5, strides=1))\n",
    "cnn4.add(BatchNormalization())\n",
    "cnn4.add(Activation('relu'))\n",
    "cnn4.add(MaxPooling2D(pool_size=(2, 2)))\n",
    "#cnn4.add(Dropout(0.2))\n",
    "\n",
    "\n",
    "cnn4.add(Flatten())\n",
    "\n",
    "cnn4.add(Dense(1024, activation='relu'))\n",
    "\n",
    "#cnn4.add(Dense(2048, activation='relu'))\n",
    "#cnn4.add(BatchNormalization())\n",
    "#cnn4.add(Dropout(0.2))\n",
    "\n",
    "#cnn4.add(Dense(256, activation='relu'))\n",
    "#cnn4.add(BatchNormalization())\n",
    "#cnn4.add(Dropout(0.2))\n",
    "\n",
    "cnn4.add(Dense(10, activation='softmax'))\n",
    "\n",
    "cnn4.compile(optimizer='adam', \n",
    "              loss='sparse_categorical_crossentropy', \n",
    "              metrics=['accuracy'])"
   ]
  },
  {
   "cell_type": "markdown",
   "metadata": {},
   "source": [
    "# CNN 75"
   ]
  },
  {
   "cell_type": "code",
   "execution_count": 12,
   "metadata": {},
   "outputs": [
    {
     "name": "stdout",
     "output_type": "stream",
     "text": [
      "Train on 40000 samples, validate on 10000 samples\n",
      "Epoch 1/15\n",
      "40000/40000 [==============================] - 121s 3ms/sample - loss: 2.3690 - acc: 0.2700 - val_loss: 1.7517 - val_acc: 0.3489\n",
      "Epoch 2/15\n",
      "40000/40000 [==============================] - 111s 3ms/sample - loss: 1.5315 - acc: 0.4264 - val_loss: 2.4665 - val_acc: 0.3265\n",
      "Epoch 3/15\n",
      "40000/40000 [==============================] - 111s 3ms/sample - loss: 0.8199 - acc: 0.7217 - val_loss: 0.7300 - val_acc: 0.7564\n",
      "Epoch 4/15\n",
      "40000/40000 [==============================] - 112s 3ms/sample - loss: 0.4591 - acc: 0.8546 - val_loss: 0.4118 - val_acc: 0.8759\n",
      "Epoch 5/15\n",
      "40000/40000 [==============================] - 112s 3ms/sample - loss: 0.3057 - acc: 0.9054 - val_loss: 0.3934 - val_acc: 0.8792\n",
      "Epoch 6/15\n",
      "40000/40000 [==============================] - 111s 3ms/sample - loss: 0.2054 - acc: 0.9368 - val_loss: 0.2763 - val_acc: 0.9201\n",
      "Epoch 7/15\n",
      "40000/40000 [==============================] - 111s 3ms/sample - loss: 0.1688 - acc: 0.9476 - val_loss: 0.4265 - val_acc: 0.8876\n",
      "Epoch 8/15\n",
      "40000/40000 [==============================] - 111s 3ms/sample - loss: 0.1168 - acc: 0.9626 - val_loss: 0.3403 - val_acc: 0.9191\n",
      "Epoch 9/15\n",
      "40000/40000 [==============================] - 111s 3ms/sample - loss: 0.0785 - acc: 0.9744 - val_loss: 0.3417 - val_acc: 0.9209\n",
      "Epoch 10/15\n",
      "40000/40000 [==============================] - 111s 3ms/sample - loss: 0.0661 - acc: 0.9789 - val_loss: 0.4108 - val_acc: 0.9162\n",
      "Epoch 11/15\n",
      "40000/40000 [==============================] - 111s 3ms/sample - loss: 0.0630 - acc: 0.9813 - val_loss: 0.3956 - val_acc: 0.9187\n",
      "Epoch 12/15\n",
      "40000/40000 [==============================] - 111s 3ms/sample - loss: 0.0447 - acc: 0.9869 - val_loss: 0.5233 - val_acc: 0.9022\n",
      "Epoch 13/15\n",
      "40000/40000 [==============================] - 111s 3ms/sample - loss: 0.0371 - acc: 0.9901 - val_loss: 0.4254 - val_acc: 0.9186\n",
      "Epoch 14/15\n",
      "40000/40000 [==============================] - 111s 3ms/sample - loss: 0.0390 - acc: 0.9887 - val_loss: 0.4163 - val_acc: 0.9227\n",
      "Epoch 15/15\n",
      "40000/40000 [==============================] - 111s 3ms/sample - loss: 0.0291 - acc: 0.9918 - val_loss: 0.4608 - val_acc: 0.9231\n"
     ]
    },
    {
     "data": {
      "text/plain": [
       "<tensorflow.python.keras.callbacks.History at 0x1d3def18408>"
      ]
     },
     "execution_count": 12,
     "metadata": {},
     "output_type": "execute_result"
    }
   ],
   "source": [
    "#for ep in range(10):\n",
    "cnn4.fit(x=X_train ,y=y_train, validation_data = (X_test, y_test), epochs=15, batch_size = 32)\n",
    "    #cnn4.fit(x=X_train2,y=y_train2, epochs=1)\n",
    "    #cnn4.fit(x=X_train3,y=y_train3, epochs=1)\n",
    "    #cnn4.fit(x=X_train4,y=y_train4, epochs=1)"
   ]
  },
  {
   "cell_type": "code",
   "execution_count": 13,
   "metadata": {},
   "outputs": [
    {
     "name": "stdout",
     "output_type": "stream",
     "text": [
      "Train on 40000 samples, validate on 10000 samples\n",
      "Epoch 1/15\n",
      "40000/40000 [==============================] - 110s 3ms/sample - loss: 0.0339 - acc: 0.9912 - val_loss: 0.4063 - val_acc: 0.9271\n",
      "Epoch 2/15\n",
      "40000/40000 [==============================] - 111s 3ms/sample - loss: 0.0245 - acc: 0.9932 - val_loss: 0.4277 - val_acc: 0.9300\n",
      "Epoch 3/15\n",
      "40000/40000 [==============================] - 111s 3ms/sample - loss: 0.0297 - acc: 0.9912 - val_loss: 0.4725 - val_acc: 0.9233\n",
      "Epoch 4/15\n",
      "40000/40000 [==============================] - 111s 3ms/sample - loss: 0.0204 - acc: 0.9938 - val_loss: 0.5191 - val_acc: 0.9165\n",
      "Epoch 5/15\n",
      "40000/40000 [==============================] - 111s 3ms/sample - loss: 0.0206 - acc: 0.9943 - val_loss: 0.4424 - val_acc: 0.9286\n",
      "Epoch 6/15\n",
      "40000/40000 [==============================] - 111s 3ms/sample - loss: 0.0179 - acc: 0.9947 - val_loss: 0.4940 - val_acc: 0.9277\n",
      "Epoch 7/15\n",
      "40000/40000 [==============================] - 111s 3ms/sample - loss: 0.0176 - acc: 0.9953 - val_loss: 0.5092 - val_acc: 0.9229\n",
      "Epoch 8/15\n",
      "40000/40000 [==============================] - 111s 3ms/sample - loss: 0.0193 - acc: 0.9945 - val_loss: 0.5685 - val_acc: 0.9231\n",
      "Epoch 9/15\n",
      "40000/40000 [==============================] - 111s 3ms/sample - loss: 0.0178 - acc: 0.9955 - val_loss: 0.5712 - val_acc: 0.9192\n",
      "Epoch 10/15\n",
      "40000/40000 [==============================] - 111s 3ms/sample - loss: 0.0277 - acc: 0.9938 - val_loss: 0.5636 - val_acc: 0.9191\n",
      "Epoch 11/15\n",
      "40000/40000 [==============================] - 111s 3ms/sample - loss: 0.0151 - acc: 0.9966 - val_loss: 0.5906 - val_acc: 0.9228\n",
      "Epoch 12/15\n",
      "40000/40000 [==============================] - 111s 3ms/sample - loss: 0.0154 - acc: 0.9961 - val_loss: 0.5019 - val_acc: 0.9227\n",
      "Epoch 13/15\n",
      "40000/40000 [==============================] - 111s 3ms/sample - loss: 0.0119 - acc: 0.9969 - val_loss: 0.5856 - val_acc: 0.9121\n",
      "Epoch 14/15\n",
      "40000/40000 [==============================] - 111s 3ms/sample - loss: 0.0146 - acc: 0.9959 - val_loss: 0.7033 - val_acc: 0.9191\n",
      "Epoch 15/15\n",
      "40000/40000 [==============================] - 111s 3ms/sample - loss: 0.0177 - acc: 0.9961 - val_loss: 0.6098 - val_acc: 0.9215\n"
     ]
    },
    {
     "data": {
      "text/plain": [
       "<tensorflow.python.keras.callbacks.History at 0x1d4063f6f48>"
      ]
     },
     "execution_count": 13,
     "metadata": {},
     "output_type": "execute_result"
    }
   ],
   "source": [
    "cnn4.fit(x=X_train ,y=y_train, validation_data = (X_test, y_test), epochs=15, batch_size = 32)"
   ]
  },
  {
   "cell_type": "code",
   "execution_count": 14,
   "metadata": {},
   "outputs": [
    {
     "name": "stdout",
     "output_type": "stream",
     "text": [
      "Train on 40000 samples, validate on 10000 samples\n",
      "Epoch 1/15\n",
      "40000/40000 [==============================] - 113s 3ms/sample - loss: 0.0112 - acc: 0.9970 - val_loss: 0.6106 - val_acc: 0.9204\n",
      "Epoch 2/15\n",
      "40000/40000 [==============================] - 110s 3ms/sample - loss: 0.0122 - acc: 0.9966 - val_loss: 0.5616 - val_acc: 0.9205\n",
      "Epoch 3/15\n",
      "40000/40000 [==============================] - 111s 3ms/sample - loss: 0.0119 - acc: 0.9970 - val_loss: 0.6596 - val_acc: 0.9157\n",
      "Epoch 4/15\n",
      "40000/40000 [==============================] - 111s 3ms/sample - loss: 0.0098 - acc: 0.9976 - val_loss: 0.6635 - val_acc: 0.9254\n",
      "Epoch 5/15\n",
      "40000/40000 [==============================] - 111s 3ms/sample - loss: 0.0141 - acc: 0.9964 - val_loss: 0.7635 - val_acc: 0.9108\n",
      "Epoch 6/15\n",
      "40000/40000 [==============================] - 111s 3ms/sample - loss: 0.0101 - acc: 0.9976 - val_loss: 0.6177 - val_acc: 0.9229\n",
      "Epoch 7/15\n",
      "40000/40000 [==============================] - 111s 3ms/sample - loss: 0.0092 - acc: 0.9981 - val_loss: 0.7112 - val_acc: 0.9151\n",
      "Epoch 8/15\n",
      "40000/40000 [==============================] - 111s 3ms/sample - loss: 0.0124 - acc: 0.9971 - val_loss: 0.7956 - val_acc: 0.9026\n",
      "Epoch 9/15\n",
      "40000/40000 [==============================] - 111s 3ms/sample - loss: 0.0106 - acc: 0.9973 - val_loss: 0.8682 - val_acc: 0.9062\n",
      "Epoch 10/15\n",
      "40000/40000 [==============================] - 111s 3ms/sample - loss: 0.0110 - acc: 0.9974 - val_loss: 0.6439 - val_acc: 0.9217\n",
      "Epoch 11/15\n",
      "40000/40000 [==============================] - 111s 3ms/sample - loss: 0.0135 - acc: 0.9969 - val_loss: 0.7639 - val_acc: 0.9189\n",
      "Epoch 12/15\n",
      "40000/40000 [==============================] - 111s 3ms/sample - loss: 0.0092 - acc: 0.9977 - val_loss: 0.7701 - val_acc: 0.9107\n",
      "Epoch 13/15\n",
      "40000/40000 [==============================] - 111s 3ms/sample - loss: 0.0085 - acc: 0.9977 - val_loss: 0.7161 - val_acc: 0.9178\n",
      "Epoch 14/15\n",
      "40000/40000 [==============================] - 111s 3ms/sample - loss: 0.0121 - acc: 0.9970 - val_loss: 0.7922 - val_acc: 0.9016\n",
      "Epoch 15/15\n",
      "40000/40000 [==============================] - 111s 3ms/sample - loss: 0.0051 - acc: 0.9987 - val_loss: 0.7100 - val_acc: 0.9212\n"
     ]
    },
    {
     "data": {
      "text/plain": [
       "<tensorflow.python.keras.callbacks.History at 0x1d4063f6888>"
      ]
     },
     "execution_count": 14,
     "metadata": {},
     "output_type": "execute_result"
    }
   ],
   "source": [
    "cnn4.fit(x=X_train ,y=y_train, validation_data = (X_test, y_test), epochs=15, batch_size = 32)"
   ]
  },
  {
   "cell_type": "code",
   "execution_count": 15,
   "metadata": {},
   "outputs": [
    {
     "name": "stdout",
     "output_type": "stream",
     "text": [
      "Train on 40000 samples, validate on 10000 samples\n",
      "Epoch 1/15\n",
      "40000/40000 [==============================] - 110s 3ms/sample - loss: 5.6899e-04 - acc: 0.9999 - val_loss: 0.6904 - val_acc: 0.9045\n",
      "Epoch 2/15\n",
      "40000/40000 [==============================] - 111s 3ms/sample - loss: 0.0170 - acc: 0.9961 - val_loss: 0.7116 - val_acc: 0.9237\n",
      "Epoch 3/15\n",
      "40000/40000 [==============================] - 111s 3ms/sample - loss: 2.2562e-04 - acc: 0.9999 - val_loss: 0.8292 - val_acc: 0.9265\n",
      "Epoch 4/15\n",
      "40000/40000 [==============================] - 111s 3ms/sample - loss: 0.0091 - acc: 0.9983 - val_loss: 1.0159 - val_acc: 0.8865\n",
      "Epoch 5/15\n",
      "40000/40000 [==============================] - 111s 3ms/sample - loss: 0.0119 - acc: 0.9974 - val_loss: 0.8336 - val_acc: 0.9245\n",
      "Epoch 6/15\n",
      "40000/40000 [==============================] - 111s 3ms/sample - loss: 0.0078 - acc: 0.9981 - val_loss: 0.8381 - val_acc: 0.9169\n",
      "Epoch 7/15\n",
      "40000/40000 [==============================] - 111s 3ms/sample - loss: 0.0120 - acc: 0.9974 - val_loss: 0.6615 - val_acc: 0.9072\n",
      "Epoch 8/15\n",
      "40000/40000 [==============================] - 111s 3ms/sample - loss: 0.0031 - acc: 0.9991 - val_loss: 0.8593 - val_acc: 0.9117\n",
      "Epoch 9/15\n",
      "40000/40000 [==============================] - 111s 3ms/sample - loss: 0.0042 - acc: 0.9991 - val_loss: 0.8200 - val_acc: 0.9207\n",
      "Epoch 10/15\n",
      "40000/40000 [==============================] - 111s 3ms/sample - loss: 0.0144 - acc: 0.9970 - val_loss: 0.7573 - val_acc: 0.9126\n",
      "Epoch 11/15\n",
      "40000/40000 [==============================] - 111s 3ms/sample - loss: 0.0117 - acc: 0.9973 - val_loss: 0.8103 - val_acc: 0.9213\n",
      "Epoch 12/15\n",
      "40000/40000 [==============================] - 111s 3ms/sample - loss: 0.0024 - acc: 0.9994 - val_loss: 0.9733 - val_acc: 0.9007\n",
      "Epoch 13/15\n",
      "40000/40000 [==============================] - 111s 3ms/sample - loss: 0.0121 - acc: 0.9978 - val_loss: 0.6576 - val_acc: 0.9228\n",
      "Epoch 14/15\n",
      "40000/40000 [==============================] - 111s 3ms/sample - loss: 0.0071 - acc: 0.9984 - val_loss: 0.7216 - val_acc: 0.9248\n",
      "Epoch 15/15\n",
      "40000/40000 [==============================] - 111s 3ms/sample - loss: 0.0035 - acc: 0.9992 - val_loss: 0.8106 - val_acc: 0.9187\n"
     ]
    },
    {
     "data": {
      "text/plain": [
       "<tensorflow.python.keras.callbacks.History at 0x1d4065c4e48>"
      ]
     },
     "execution_count": 15,
     "metadata": {},
     "output_type": "execute_result"
    }
   ],
   "source": [
    "cnn4.fit(x=X_train ,y=y_train, validation_data = (X_test, y_test), epochs=15, batch_size = 32)"
   ]
  },
  {
   "cell_type": "code",
   "execution_count": 16,
   "metadata": {},
   "outputs": [
    {
     "name": "stdout",
     "output_type": "stream",
     "text": [
      "Train on 40000 samples, validate on 10000 samples\n",
      "Epoch 1/15\n",
      "40000/40000 [==============================] - 110s 3ms/sample - loss: 0.0139 - acc: 0.9970 - val_loss: 0.8888 - val_acc: 0.9046\n",
      "Epoch 2/15\n",
      "40000/40000 [==============================] - 111s 3ms/sample - loss: 0.0084 - acc: 0.9982 - val_loss: 0.7742 - val_acc: 0.9089\n",
      "Epoch 3/15\n",
      "40000/40000 [==============================] - 111s 3ms/sample - loss: 0.0072 - acc: 0.9984 - val_loss: 0.7142 - val_acc: 0.9125\n",
      "Epoch 4/15\n",
      "40000/40000 [==============================] - 111s 3ms/sample - loss: 0.0038 - acc: 0.9990 - val_loss: 1.1406 - val_acc: 0.8994\n",
      "Epoch 5/15\n",
      "40000/40000 [==============================] - 111s 3ms/sample - loss: 0.0117 - acc: 0.9972 - val_loss: 0.8214 - val_acc: 0.9097\n",
      "Epoch 6/15\n",
      "40000/40000 [==============================] - 111s 3ms/sample - loss: 0.0051 - acc: 0.9990 - val_loss: 0.7693 - val_acc: 0.9152\n",
      "Epoch 7/15\n",
      "40000/40000 [==============================] - 111s 3ms/sample - loss: 0.0073 - acc: 0.9989 - val_loss: 0.8936 - val_acc: 0.9015\n",
      "Epoch 8/15\n",
      "40000/40000 [==============================] - 111s 3ms/sample - loss: 0.0077 - acc: 0.9985 - val_loss: 0.7938 - val_acc: 0.9139\n",
      "Epoch 9/15\n",
      "40000/40000 [==============================] - 111s 3ms/sample - loss: 0.0061 - acc: 0.9987 - val_loss: 1.1814 - val_acc: 0.8950\n",
      "Epoch 10/15\n",
      "40000/40000 [==============================] - 111s 3ms/sample - loss: 0.0091 - acc: 0.9982 - val_loss: 0.8194 - val_acc: 0.9144\n",
      "Epoch 11/15\n",
      "40000/40000 [==============================] - 111s 3ms/sample - loss: 0.0093 - acc: 0.9984 - val_loss: 0.7486 - val_acc: 0.9074\n",
      "Epoch 12/15\n",
      "40000/40000 [==============================] - 111s 3ms/sample - loss: 0.0074 - acc: 0.9986 - val_loss: 0.8232 - val_acc: 0.9148\n",
      "Epoch 13/15\n",
      "40000/40000 [==============================] - 111s 3ms/sample - loss: 2.2873e-04 - acc: 0.9999 - val_loss: 0.9599 - val_acc: 0.9142\n",
      "Epoch 14/15\n",
      "40000/40000 [==============================] - 111s 3ms/sample - loss: 0.0144 - acc: 0.9972 - val_loss: 0.8345 - val_acc: 0.9119\n",
      "Epoch 15/15\n",
      "40000/40000 [==============================] - 111s 3ms/sample - loss: 0.0042 - acc: 0.9991 - val_loss: 0.9832 - val_acc: 0.9125\n"
     ]
    },
    {
     "data": {
      "text/plain": [
       "<tensorflow.python.keras.callbacks.History at 0x1d406618808>"
      ]
     },
     "execution_count": 16,
     "metadata": {},
     "output_type": "execute_result"
    }
   ],
   "source": [
    "cnn4.fit(x=X_train ,y=y_train, validation_data = (X_test, y_test), epochs=15, batch_size = 32)"
   ]
  },
  {
   "cell_type": "code",
   "execution_count": 17,
   "metadata": {},
   "outputs": [
    {
     "name": "stdout",
     "output_type": "stream",
     "text": [
      "Train on 40000 samples, validate on 10000 samples\n",
      "Epoch 1/15\n",
      "40000/40000 [==============================] - 109s 3ms/sample - loss: 0.0052 - acc: 0.9990 - val_loss: 0.9051 - val_acc: 0.9156\n",
      "Epoch 2/15\n",
      "40000/40000 [==============================] - 110s 3ms/sample - loss: 0.0086 - acc: 0.9983 - val_loss: 0.9622 - val_acc: 0.9135\n",
      "Epoch 3/15\n",
      "40000/40000 [==============================] - 111s 3ms/sample - loss: 0.0074 - acc: 0.9986 - val_loss: 0.9197 - val_acc: 0.9070\n",
      "Epoch 4/15\n",
      "40000/40000 [==============================] - 111s 3ms/sample - loss: 0.0100 - acc: 0.9984 - val_loss: 0.7976 - val_acc: 0.9137\n",
      "Epoch 5/15\n",
      "40000/40000 [==============================] - 111s 3ms/sample - loss: 0.0055 - acc: 0.9987 - val_loss: 0.9104 - val_acc: 0.9179\n",
      "Epoch 6/15\n",
      "40000/40000 [==============================] - 111s 3ms/sample - loss: 0.0033 - acc: 0.9992 - val_loss: 1.2885 - val_acc: 0.8787\n",
      "Epoch 7/15\n",
      "40000/40000 [==============================] - 111s 3ms/sample - loss: 0.0096 - acc: 0.9982 - val_loss: 0.8783 - val_acc: 0.9160\n",
      "Epoch 8/15\n",
      "40000/40000 [==============================] - 111s 3ms/sample - loss: 0.0026 - acc: 0.9996 - val_loss: 1.3398 - val_acc: 0.9024\n",
      "Epoch 9/15\n",
      "40000/40000 [==============================] - 111s 3ms/sample - loss: 0.0116 - acc: 0.9978 - val_loss: 0.9176 - val_acc: 0.9117\n",
      "Epoch 10/15\n",
      "40000/40000 [==============================] - 111s 3ms/sample - loss: 0.0044 - acc: 0.9988 - val_loss: 1.0190 - val_acc: 0.8988\n",
      "Epoch 11/15\n",
      "18176/40000 [============>.................] - ETA: 56s - loss: 2.9111e-04 - acc: 0.9998"
     ]
    },
    {
     "ename": "KeyboardInterrupt",
     "evalue": "",
     "output_type": "error",
     "traceback": [
      "\u001b[1;31m---------------------------------------------------------------------------\u001b[0m",
      "\u001b[1;31mKeyboardInterrupt\u001b[0m                         Traceback (most recent call last)",
      "\u001b[1;32m<ipython-input-17-bd4af32ca560>\u001b[0m in \u001b[0;36m<module>\u001b[1;34m\u001b[0m\n\u001b[1;32m----> 1\u001b[1;33m \u001b[0mcnn4\u001b[0m\u001b[1;33m.\u001b[0m\u001b[0mfit\u001b[0m\u001b[1;33m(\u001b[0m\u001b[0mx\u001b[0m\u001b[1;33m=\u001b[0m\u001b[0mX_train\u001b[0m \u001b[1;33m,\u001b[0m\u001b[0my\u001b[0m\u001b[1;33m=\u001b[0m\u001b[0my_train\u001b[0m\u001b[1;33m,\u001b[0m \u001b[0mvalidation_data\u001b[0m \u001b[1;33m=\u001b[0m \u001b[1;33m(\u001b[0m\u001b[0mX_test\u001b[0m\u001b[1;33m,\u001b[0m \u001b[0my_test\u001b[0m\u001b[1;33m)\u001b[0m\u001b[1;33m,\u001b[0m \u001b[0mepochs\u001b[0m\u001b[1;33m=\u001b[0m\u001b[1;36m15\u001b[0m\u001b[1;33m,\u001b[0m \u001b[0mbatch_size\u001b[0m \u001b[1;33m=\u001b[0m \u001b[1;36m32\u001b[0m\u001b[1;33m)\u001b[0m\u001b[1;33m\u001b[0m\u001b[1;33m\u001b[0m\u001b[0m\n\u001b[0m",
      "\u001b[1;32mD:\\Anaconda\\AnacondaInstall\\envs\\tf_gpu\\lib\\site-packages\\tensorflow\\python\\keras\\engine\\training.py\u001b[0m in \u001b[0;36mfit\u001b[1;34m(self, x, y, batch_size, epochs, verbose, callbacks, validation_split, validation_data, shuffle, class_weight, sample_weight, initial_epoch, steps_per_epoch, validation_steps, validation_freq, max_queue_size, workers, use_multiprocessing, **kwargs)\u001b[0m\n\u001b[0;32m    778\u001b[0m           \u001b[0mvalidation_steps\u001b[0m\u001b[1;33m=\u001b[0m\u001b[0mvalidation_steps\u001b[0m\u001b[1;33m,\u001b[0m\u001b[1;33m\u001b[0m\u001b[1;33m\u001b[0m\u001b[0m\n\u001b[0;32m    779\u001b[0m           \u001b[0mvalidation_freq\u001b[0m\u001b[1;33m=\u001b[0m\u001b[0mvalidation_freq\u001b[0m\u001b[1;33m,\u001b[0m\u001b[1;33m\u001b[0m\u001b[1;33m\u001b[0m\u001b[0m\n\u001b[1;32m--> 780\u001b[1;33m           steps_name='steps_per_epoch')\n\u001b[0m\u001b[0;32m    781\u001b[0m \u001b[1;33m\u001b[0m\u001b[0m\n\u001b[0;32m    782\u001b[0m   def evaluate(self,\n",
      "\u001b[1;32mD:\\Anaconda\\AnacondaInstall\\envs\\tf_gpu\\lib\\site-packages\\tensorflow\\python\\keras\\engine\\training_arrays.py\u001b[0m in \u001b[0;36mmodel_iteration\u001b[1;34m(model, inputs, targets, sample_weights, batch_size, epochs, verbose, callbacks, val_inputs, val_targets, val_sample_weights, shuffle, initial_epoch, steps_per_epoch, validation_steps, validation_freq, mode, validation_in_fit, prepared_feed_values_from_dataset, steps_name, **kwargs)\u001b[0m\n\u001b[0;32m    361\u001b[0m \u001b[1;33m\u001b[0m\u001b[0m\n\u001b[0;32m    362\u001b[0m         \u001b[1;31m# Get outputs.\u001b[0m\u001b[1;33m\u001b[0m\u001b[1;33m\u001b[0m\u001b[1;33m\u001b[0m\u001b[0m\n\u001b[1;32m--> 363\u001b[1;33m         \u001b[0mbatch_outs\u001b[0m \u001b[1;33m=\u001b[0m \u001b[0mf\u001b[0m\u001b[1;33m(\u001b[0m\u001b[0mins_batch\u001b[0m\u001b[1;33m)\u001b[0m\u001b[1;33m\u001b[0m\u001b[1;33m\u001b[0m\u001b[0m\n\u001b[0m\u001b[0;32m    364\u001b[0m         \u001b[1;32mif\u001b[0m \u001b[1;32mnot\u001b[0m \u001b[0misinstance\u001b[0m\u001b[1;33m(\u001b[0m\u001b[0mbatch_outs\u001b[0m\u001b[1;33m,\u001b[0m \u001b[0mlist\u001b[0m\u001b[1;33m)\u001b[0m\u001b[1;33m:\u001b[0m\u001b[1;33m\u001b[0m\u001b[1;33m\u001b[0m\u001b[0m\n\u001b[0;32m    365\u001b[0m           \u001b[0mbatch_outs\u001b[0m \u001b[1;33m=\u001b[0m \u001b[1;33m[\u001b[0m\u001b[0mbatch_outs\u001b[0m\u001b[1;33m]\u001b[0m\u001b[1;33m\u001b[0m\u001b[1;33m\u001b[0m\u001b[0m\n",
      "\u001b[1;32mD:\\Anaconda\\AnacondaInstall\\envs\\tf_gpu\\lib\\site-packages\\tensorflow\\python\\keras\\backend.py\u001b[0m in \u001b[0;36m__call__\u001b[1;34m(self, inputs)\u001b[0m\n\u001b[0;32m   3290\u001b[0m \u001b[1;33m\u001b[0m\u001b[0m\n\u001b[0;32m   3291\u001b[0m     fetched = self._callable_fn(*array_vals,\n\u001b[1;32m-> 3292\u001b[1;33m                                 run_metadata=self.run_metadata)\n\u001b[0m\u001b[0;32m   3293\u001b[0m     \u001b[0mself\u001b[0m\u001b[1;33m.\u001b[0m\u001b[0m_call_fetch_callbacks\u001b[0m\u001b[1;33m(\u001b[0m\u001b[0mfetched\u001b[0m\u001b[1;33m[\u001b[0m\u001b[1;33m-\u001b[0m\u001b[0mlen\u001b[0m\u001b[1;33m(\u001b[0m\u001b[0mself\u001b[0m\u001b[1;33m.\u001b[0m\u001b[0m_fetches\u001b[0m\u001b[1;33m)\u001b[0m\u001b[1;33m:\u001b[0m\u001b[1;33m]\u001b[0m\u001b[1;33m)\u001b[0m\u001b[1;33m\u001b[0m\u001b[1;33m\u001b[0m\u001b[0m\n\u001b[0;32m   3294\u001b[0m     output_structure = nest.pack_sequence_as(\n",
      "\u001b[1;32mD:\\Anaconda\\AnacondaInstall\\envs\\tf_gpu\\lib\\site-packages\\tensorflow\\python\\client\\session.py\u001b[0m in \u001b[0;36m__call__\u001b[1;34m(self, *args, **kwargs)\u001b[0m\n\u001b[0;32m   1456\u001b[0m         ret = tf_session.TF_SessionRunCallable(self._session._session,\n\u001b[0;32m   1457\u001b[0m                                                \u001b[0mself\u001b[0m\u001b[1;33m.\u001b[0m\u001b[0m_handle\u001b[0m\u001b[1;33m,\u001b[0m \u001b[0margs\u001b[0m\u001b[1;33m,\u001b[0m\u001b[1;33m\u001b[0m\u001b[1;33m\u001b[0m\u001b[0m\n\u001b[1;32m-> 1458\u001b[1;33m                                                run_metadata_ptr)\n\u001b[0m\u001b[0;32m   1459\u001b[0m         \u001b[1;32mif\u001b[0m \u001b[0mrun_metadata\u001b[0m\u001b[1;33m:\u001b[0m\u001b[1;33m\u001b[0m\u001b[1;33m\u001b[0m\u001b[0m\n\u001b[0;32m   1460\u001b[0m           \u001b[0mproto_data\u001b[0m \u001b[1;33m=\u001b[0m \u001b[0mtf_session\u001b[0m\u001b[1;33m.\u001b[0m\u001b[0mTF_GetBuffer\u001b[0m\u001b[1;33m(\u001b[0m\u001b[0mrun_metadata_ptr\u001b[0m\u001b[1;33m)\u001b[0m\u001b[1;33m\u001b[0m\u001b[1;33m\u001b[0m\u001b[0m\n",
      "\u001b[1;31mKeyboardInterrupt\u001b[0m: "
     ]
    }
   ],
   "source": [
    "cnn4.fit(x=X_train ,y=y_train, validation_data = (X_test, y_test), epochs=15, batch_size = 32)"
   ]
  },
  {
   "cell_type": "markdown",
   "metadata": {},
   "source": [
    "# CNN 20"
   ]
  },
  {
   "cell_type": "code",
   "execution_count": null,
   "metadata": {},
   "outputs": [],
   "source": []
  },
  {
   "cell_type": "markdown",
   "metadata": {},
   "source": [
    "# CNN 30"
   ]
  },
  {
   "cell_type": "code",
   "execution_count": null,
   "metadata": {},
   "outputs": [],
   "source": []
  },
  {
   "cell_type": "markdown",
   "metadata": {},
   "source": [
    "# CNN 40"
   ]
  },
  {
   "cell_type": "code",
   "execution_count": null,
   "metadata": {},
   "outputs": [],
   "source": []
  },
  {
   "cell_type": "code",
   "execution_count": 6,
   "metadata": {},
   "outputs": [
    {
     "name": "stdout",
     "output_type": "stream",
     "text": [
      "10000/10000 - 9s - loss: 0.9685 - acc: 0.7185\n",
      "\n",
      "Test accuracy: 0.7185\n"
     ]
    }
   ],
   "source": [
    "test_loss, test_acc = cnn4.evaluate(X_test,  y_test, verbose=2)\n",
    "\n",
    "print('\\nTest accuracy:', test_acc)"
   ]
  },
  {
   "cell_type": "code",
   "execution_count": 13,
   "metadata": {},
   "outputs": [
    {
     "name": "stdout",
     "output_type": "stream",
     "text": [
      "10000/10000 - 10s - loss: 0.9984 - acc: 0.7238\n",
      "\n",
      "Test accuracy: 0.7238\n"
     ]
    }
   ],
   "source": [
    "test_loss, test_acc = cnn4.evaluate(X_test,  y_test, verbose=2)\n",
    "\n",
    "print('\\nTest accuracy:', test_acc)"
   ]
  },
  {
   "cell_type": "code",
   "execution_count": 7,
   "metadata": {},
   "outputs": [
    {
     "name": "stdout",
     "output_type": "stream",
     "text": [
      "10000/10000 - 14s - loss: 0.9785 - acc: 0.7281\n",
      "\n",
      "Test accuracy: 0.7281\n"
     ]
    }
   ],
   "source": [
    "test_loss, test_acc = cnn4.evaluate(X_test,  y_test, verbose=2)\n",
    "\n",
    "print('\\nTest accuracy:', test_acc)"
   ]
  },
  {
   "cell_type": "code",
   "execution_count": 19,
   "metadata": {},
   "outputs": [
    {
     "name": "stdout",
     "output_type": "stream",
     "text": [
      "10000/10000 - 12s - loss: 0.3689 - acc: 0.8904\n",
      "\n",
      "Test accuracy: 0.8904\n"
     ]
    }
   ],
   "source": [
    "test_loss, test_acc = cnn4.evaluate(X_test,  y_test, verbose=2)\n",
    "\n",
    "print('\\nTest accuracy:', test_acc)"
   ]
  },
  {
   "cell_type": "code",
   "execution_count": 10,
   "metadata": {},
   "outputs": [
    {
     "name": "stdout",
     "output_type": "stream",
     "text": [
      "Model: \"sequential_2\"\n",
      "_________________________________________________________________\n",
      "Layer (type)                 Output Shape              Param #   \n",
      "=================================================================\n",
      "conv2d_12 (Conv2D)           (None, 124, 124, 32)      832       \n",
      "_________________________________________________________________\n",
      "batch_normalization_12 (Batc (None, 124, 124, 32)      128       \n",
      "_________________________________________________________________\n",
      "activation_12 (Activation)   (None, 124, 124, 32)      0         \n",
      "_________________________________________________________________\n",
      "conv2d_13 (Conv2D)           (None, 120, 120, 32)      25632     \n",
      "_________________________________________________________________\n",
      "batch_normalization_13 (Batc (None, 120, 120, 32)      128       \n",
      "_________________________________________________________________\n",
      "activation_13 (Activation)   (None, 120, 120, 32)      0         \n",
      "_________________________________________________________________\n",
      "max_pooling2d_4 (MaxPooling2 (None, 60, 60, 32)        0         \n",
      "_________________________________________________________________\n",
      "conv2d_14 (Conv2D)           (None, 60, 60, 64)        51264     \n",
      "_________________________________________________________________\n",
      "batch_normalization_14 (Batc (None, 60, 60, 64)        256       \n",
      "_________________________________________________________________\n",
      "activation_14 (Activation)   (None, 60, 60, 64)        0         \n",
      "_________________________________________________________________\n",
      "conv2d_15 (Conv2D)           (None, 60, 60, 64)        65600     \n",
      "_________________________________________________________________\n",
      "batch_normalization_15 (Batc (None, 60, 60, 64)        256       \n",
      "_________________________________________________________________\n",
      "activation_15 (Activation)   (None, 60, 60, 64)        0         \n",
      "_________________________________________________________________\n",
      "conv2d_16 (Conv2D)           (None, 56, 56, 128)       204928    \n",
      "_________________________________________________________________\n",
      "batch_normalization_16 (Batc (None, 56, 56, 128)       512       \n",
      "_________________________________________________________________\n",
      "activation_16 (Activation)   (None, 56, 56, 128)       0         \n",
      "_________________________________________________________________\n",
      "conv2d_17 (Conv2D)           (None, 52, 52, 128)       409728    \n",
      "_________________________________________________________________\n",
      "batch_normalization_17 (Batc (None, 52, 52, 128)       512       \n",
      "_________________________________________________________________\n",
      "activation_17 (Activation)   (None, 52, 52, 128)       0         \n",
      "_________________________________________________________________\n",
      "max_pooling2d_5 (MaxPooling2 (None, 26, 26, 128)       0         \n",
      "_________________________________________________________________\n",
      "flatten_2 (Flatten)          (None, 86528)             0         \n",
      "_________________________________________________________________\n",
      "dense_6 (Dense)              (None, 2048)              177211392 \n",
      "_________________________________________________________________\n",
      "dense_7 (Dense)              (None, 10)                20490     \n",
      "=================================================================\n",
      "Total params: 177,991,658\n",
      "Trainable params: 177,990,762\n",
      "Non-trainable params: 896\n",
      "_________________________________________________________________\n"
     ]
    }
   ],
   "source": [
    "cnn4.summary()"
   ]
  },
  {
   "cell_type": "markdown",
   "metadata": {},
   "source": [
    "# batch size 16"
   ]
  },
  {
   "cell_type": "code",
   "execution_count": 5,
   "metadata": {},
   "outputs": [
    {
     "name": "stdout",
     "output_type": "stream",
     "text": [
      "Train on 40000 samples, validate on 10000 samples\n",
      "Epoch 1/15\n",
      "40000/40000 [==============================] - 153s 4ms/sample - loss: 2.9482 - acc: 0.2572 - val_loss: 1.9088 - val_acc: 0.2703\n",
      "Epoch 2/15\n",
      "40000/40000 [==============================] - 143s 4ms/sample - loss: 1.7718 - acc: 0.3354 - val_loss: 2.4793 - val_acc: 0.1929\n",
      "Epoch 3/15\n",
      "40000/40000 [==============================] - 144s 4ms/sample - loss: 1.1599 - acc: 0.5934 - val_loss: 0.8653 - val_acc: 0.7145\n",
      "Epoch 4/15\n",
      "40000/40000 [==============================] - 144s 4ms/sample - loss: 0.6607 - acc: 0.7727 - val_loss: 0.6874 - val_acc: 0.7533\n",
      "Epoch 5/15\n",
      "40000/40000 [==============================] - 144s 4ms/sample - loss: 0.4226 - acc: 0.8596 - val_loss: 0.5140 - val_acc: 0.8370\n",
      "Epoch 6/15\n",
      "40000/40000 [==============================] - 143s 4ms/sample - loss: 0.2665 - acc: 0.9132 - val_loss: 0.4948 - val_acc: 0.8643\n",
      "Epoch 7/15\n",
      "40000/40000 [==============================] - 143s 4ms/sample - loss: 0.1699 - acc: 0.9452 - val_loss: 0.4653 - val_acc: 0.8794\n",
      "Epoch 8/15\n",
      "40000/40000 [==============================] - 143s 4ms/sample - loss: 0.1052 - acc: 0.9662 - val_loss: 0.5199 - val_acc: 0.8644\n",
      "Epoch 9/15\n",
      "40000/40000 [==============================] - 143s 4ms/sample - loss: 0.0711 - acc: 0.9772 - val_loss: 0.5536 - val_acc: 0.8794\n",
      "Epoch 10/15\n",
      "40000/40000 [==============================] - 143s 4ms/sample - loss: 0.0551 - acc: 0.9833 - val_loss: 0.7615 - val_acc: 0.8509\n",
      "Epoch 11/15\n",
      "40000/40000 [==============================] - 143s 4ms/sample - loss: 0.0417 - acc: 0.9878 - val_loss: 0.7557 - val_acc: 0.8557\n",
      "Epoch 12/15\n",
      "40000/40000 [==============================] - 143s 4ms/sample - loss: 0.0367 - acc: 0.9897 - val_loss: 0.6557 - val_acc: 0.8750\n",
      "Epoch 13/15\n",
      "40000/40000 [==============================] - 143s 4ms/sample - loss: 0.0307 - acc: 0.9906 - val_loss: 0.7009 - val_acc: 0.8723\n",
      "Epoch 14/15\n",
      "40000/40000 [==============================] - 143s 4ms/sample - loss: 0.0281 - acc: 0.9920 - val_loss: 0.6807 - val_acc: 0.8784\n",
      "Epoch 15/15\n",
      "40000/40000 [==============================] - 143s 4ms/sample - loss: 0.0272 - acc: 0.9922 - val_loss: 0.7309 - val_acc: 0.8707\n"
     ]
    },
    {
     "data": {
      "text/plain": [
       "<tensorflow.python.keras.callbacks.History at 0x17a88bb7e48>"
      ]
     },
     "execution_count": 5,
     "metadata": {},
     "output_type": "execute_result"
    }
   ],
   "source": [
    "cnn4.fit(x=X_train ,y=y_train, validation_data = (X_test, y_test), epochs=15, batch_size = 16)"
   ]
  },
  {
   "cell_type": "code",
   "execution_count": 6,
   "metadata": {},
   "outputs": [
    {
     "name": "stdout",
     "output_type": "stream",
     "text": [
      "Train on 40000 samples, validate on 10000 samples\n",
      "Epoch 1/15\n",
      "40000/40000 [==============================] - 141s 4ms/sample - loss: 0.0228 - acc: 0.9934 - val_loss: 0.7585 - val_acc: 0.8668\n",
      "Epoch 2/15\n",
      "40000/40000 [==============================] - 142s 4ms/sample - loss: 0.0253 - acc: 0.9936 - val_loss: 0.7634 - val_acc: 0.8655\n",
      "Epoch 3/15\n",
      "40000/40000 [==============================] - 143s 4ms/sample - loss: 0.0182 - acc: 0.9954 - val_loss: 0.7915 - val_acc: 0.8715\n",
      "Epoch 4/15\n",
      "40000/40000 [==============================] - 143s 4ms/sample - loss: 0.0192 - acc: 0.9948 - val_loss: 0.8218 - val_acc: 0.8748\n",
      "Epoch 5/15\n",
      "40000/40000 [==============================] - 143s 4ms/sample - loss: 0.0115 - acc: 0.9969 - val_loss: 0.8776 - val_acc: 0.8684\n",
      "Epoch 6/15\n",
      "40000/40000 [==============================] - 143s 4ms/sample - loss: 0.0180 - acc: 0.9949 - val_loss: 0.8263 - val_acc: 0.8679\n",
      "Epoch 7/15\n",
      "40000/40000 [==============================] - 143s 4ms/sample - loss: 0.0115 - acc: 0.9972 - val_loss: 0.8760 - val_acc: 0.8735\n",
      "Epoch 8/15\n",
      "40000/40000 [==============================] - 143s 4ms/sample - loss: 0.0143 - acc: 0.9963 - val_loss: 0.9435 - val_acc: 0.8710\n",
      "Epoch 9/15\n",
      "40000/40000 [==============================] - 143s 4ms/sample - loss: 0.0134 - acc: 0.9967 - val_loss: 1.1317 - val_acc: 0.8687\n",
      "Epoch 10/15\n",
      "40000/40000 [==============================] - 143s 4ms/sample - loss: 0.0125 - acc: 0.9966 - val_loss: 1.2331 - val_acc: 0.8494\n",
      "Epoch 11/15\n",
      "40000/40000 [==============================] - 143s 4ms/sample - loss: 0.0122 - acc: 0.9969 - val_loss: 0.9255 - val_acc: 0.8585\n",
      "Epoch 12/15\n",
      "40000/40000 [==============================] - 143s 4ms/sample - loss: 0.0100 - acc: 0.9974 - val_loss: 1.0478 - val_acc: 0.8693\n",
      "Epoch 13/15\n",
      "40000/40000 [==============================] - 143s 4ms/sample - loss: 0.0144 - acc: 0.9966 - val_loss: 1.0910 - val_acc: 0.8725\n",
      "Epoch 14/15\n",
      "40000/40000 [==============================] - 143s 4ms/sample - loss: 0.0121 - acc: 0.9973 - val_loss: 0.9173 - val_acc: 0.8700\n",
      "Epoch 15/15\n",
      "40000/40000 [==============================] - 143s 4ms/sample - loss: 0.0104 - acc: 0.9973 - val_loss: 0.8953 - val_acc: 0.8532\n"
     ]
    },
    {
     "data": {
      "text/plain": [
       "<tensorflow.python.keras.callbacks.History at 0x17af0706e88>"
      ]
     },
     "execution_count": 6,
     "metadata": {},
     "output_type": "execute_result"
    }
   ],
   "source": [
    "cnn4.fit(x=X_train ,y=y_train, validation_data = (X_test, y_test), epochs=15, batch_size = 16)"
   ]
  },
  {
   "cell_type": "code",
   "execution_count": 7,
   "metadata": {},
   "outputs": [
    {
     "name": "stdout",
     "output_type": "stream",
     "text": [
      "Train on 40000 samples, validate on 10000 samples\n",
      "Epoch 1/15\n",
      "40000/40000 [==============================] - 141s 4ms/sample - loss: 0.0065 - acc: 0.9987 - val_loss: 1.0026 - val_acc: 0.8545\n",
      "Epoch 2/15\n",
      "40000/40000 [==============================] - 142s 4ms/sample - loss: 0.0080 - acc: 0.9979 - val_loss: 1.1429 - val_acc: 0.8606\n",
      "Epoch 3/15\n",
      "40000/40000 [==============================] - 142s 4ms/sample - loss: 0.0117 - acc: 0.9978 - val_loss: 1.0176 - val_acc: 0.8606\n",
      "Epoch 4/15\n",
      "40000/40000 [==============================] - 142s 4ms/sample - loss: 0.0064 - acc: 0.9984 - val_loss: 1.0481 - val_acc: 0.8693\n",
      "Epoch 5/15\n",
      "40000/40000 [==============================] - 142s 4ms/sample - loss: 0.0072 - acc: 0.9982 - val_loss: 1.0839 - val_acc: 0.8710\n",
      "Epoch 6/15\n",
      "40000/40000 [==============================] - 142s 4ms/sample - loss: 0.0078 - acc: 0.9983 - val_loss: 1.1327 - val_acc: 0.8536\n",
      "Epoch 7/15\n",
      "40000/40000 [==============================] - 143s 4ms/sample - loss: 0.0092 - acc: 0.9981 - val_loss: 1.0526 - val_acc: 0.8626\n",
      "Epoch 8/15\n",
      "40000/40000 [==============================] - 142s 4ms/sample - loss: 0.0077 - acc: 0.9981 - val_loss: 1.3470 - val_acc: 0.8479\n",
      "Epoch 9/15\n",
      "40000/40000 [==============================] - 143s 4ms/sample - loss: 0.0056 - acc: 0.9986 - val_loss: 0.9656 - val_acc: 0.8686\n",
      "Epoch 10/15\n",
      "40000/40000 [==============================] - 143s 4ms/sample - loss: 0.0072 - acc: 0.9981 - val_loss: 1.2732 - val_acc: 0.8318\n",
      "Epoch 11/15\n",
      "40000/40000 [==============================] - 143s 4ms/sample - loss: 0.0089 - acc: 0.9980 - val_loss: 1.4458 - val_acc: 0.8508\n",
      "Epoch 12/15\n",
      "40000/40000 [==============================] - 143s 4ms/sample - loss: 0.0084 - acc: 0.9983 - val_loss: 1.0966 - val_acc: 0.8448\n",
      "Epoch 13/15\n",
      "40000/40000 [==============================] - 143s 4ms/sample - loss: 0.0018 - acc: 0.9995 - val_loss: 1.2684 - val_acc: 0.8612\n",
      "Epoch 14/15\n",
      "40000/40000 [==============================] - 143s 4ms/sample - loss: 0.0058 - acc: 0.9987 - val_loss: 2.5093 - val_acc: 0.8208\n",
      "Epoch 15/15\n",
      "40000/40000 [==============================] - 143s 4ms/sample - loss: 0.0063 - acc: 0.9985 - val_loss: 1.0905 - val_acc: 0.8601\n"
     ]
    },
    {
     "data": {
      "text/plain": [
       "<tensorflow.python.keras.callbacks.History at 0x17a86d3f508>"
      ]
     },
     "execution_count": 7,
     "metadata": {},
     "output_type": "execute_result"
    }
   ],
   "source": [
    "cnn4.fit(x=X_train ,y=y_train, validation_data = (X_test, y_test), epochs=15, batch_size = 16)"
   ]
  },
  {
   "cell_type": "code",
   "execution_count": 8,
   "metadata": {},
   "outputs": [
    {
     "name": "stdout",
     "output_type": "stream",
     "text": [
      "Train on 40000 samples, validate on 10000 samples\n",
      "Epoch 1/15\n",
      "40000/40000 [==============================] - 141s 4ms/sample - loss: 0.0044 - acc: 0.9990 - val_loss: 1.3379 - val_acc: 0.8535\n",
      "Epoch 2/15\n",
      "40000/40000 [==============================] - 142s 4ms/sample - loss: 0.0062 - acc: 0.9984 - val_loss: 1.3218 - val_acc: 0.8340\n",
      "Epoch 3/15\n",
      "40000/40000 [==============================] - 142s 4ms/sample - loss: 0.0066 - acc: 0.9985 - val_loss: 1.2056 - val_acc: 0.8494\n",
      "Epoch 4/15\n",
      "40000/40000 [==============================] - 142s 4ms/sample - loss: 0.0050 - acc: 0.9989 - val_loss: 1.2614 - val_acc: 0.8551\n",
      "Epoch 5/15\n",
      "40000/40000 [==============================] - 143s 4ms/sample - loss: 0.0053 - acc: 0.9988 - val_loss: 1.3023 - val_acc: 0.8341\n",
      "Epoch 6/15\n",
      "40000/40000 [==============================] - 143s 4ms/sample - loss: 0.0059 - acc: 0.9985 - val_loss: 1.2576 - val_acc: 0.8508\n",
      "Epoch 7/15\n",
      "40000/40000 [==============================] - 143s 4ms/sample - loss: 0.0048 - acc: 0.9988 - val_loss: 1.2585 - val_acc: 0.8628\n",
      "Epoch 8/15\n",
      "40000/40000 [==============================] - 143s 4ms/sample - loss: 0.0068 - acc: 0.9983 - val_loss: 1.4318 - val_acc: 0.8536\n",
      "Epoch 9/15\n",
      "40000/40000 [==============================] - 143s 4ms/sample - loss: 5.2318e-04 - acc: 0.9999 - val_loss: 1.2261 - val_acc: 0.8661\n",
      "Epoch 10/15\n",
      "40000/40000 [==============================] - 143s 4ms/sample - loss: 2.9020e-06 - acc: 1.0000 - val_loss: 1.3131 - val_acc: 0.8659\n",
      "Epoch 11/15\n",
      "40000/40000 [==============================] - 143s 4ms/sample - loss: 4.8891e-07 - acc: 1.0000 - val_loss: 1.3755 - val_acc: 0.8647\n",
      "Epoch 12/15\n",
      "40000/40000 [==============================] - 143s 4ms/sample - loss: 2.0583e-07 - acc: 1.0000 - val_loss: 1.4391 - val_acc: 0.8665\n",
      "Epoch 13/15\n",
      "40000/40000 [==============================] - 143s 4ms/sample - loss: 7.0040e-08 - acc: 1.0000 - val_loss: 1.4690 - val_acc: 0.8674\n",
      "Epoch 14/15\n",
      "40000/40000 [==============================] - 143s 4ms/sample - loss: 0.0049 - acc: 0.9991 - val_loss: 2.1294 - val_acc: 0.7460\n",
      "Epoch 15/15\n",
      "40000/40000 [==============================] - 143s 4ms/sample - loss: 0.0086 - acc: 0.9984 - val_loss: 1.6308 - val_acc: 0.8379\n"
     ]
    },
    {
     "data": {
      "text/plain": [
       "<tensorflow.python.keras.callbacks.History at 0x17a96029b08>"
      ]
     },
     "execution_count": 8,
     "metadata": {},
     "output_type": "execute_result"
    }
   ],
   "source": [
    "cnn4.fit(x=X_train ,y=y_train, validation_data = (X_test, y_test), epochs=15, batch_size = 16)"
   ]
  },
  {
   "cell_type": "code",
   "execution_count": null,
   "metadata": {},
   "outputs": [],
   "source": []
  }
 ],
 "metadata": {
  "kernelspec": {
   "display_name": "TensorFlow-GPU-NEW",
   "language": "python",
   "name": "tf-gpu"
  },
  "language_info": {
   "codemirror_mode": {
    "name": "ipython",
    "version": 3
   },
   "file_extension": ".py",
   "mimetype": "text/x-python",
   "name": "python",
   "nbconvert_exporter": "python",
   "pygments_lexer": "ipython3",
   "version": "3.7.4"
  }
 },
 "nbformat": 4,
 "nbformat_minor": 2
}
